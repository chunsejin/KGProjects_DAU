{
 "nbformat": 4,
 "nbformat_minor": 0,
 "metadata": {
  "colab": {
   "name": "DAU_CSE408: Graph Machine Learning At-A-Glance",
   "provenance": [],
   "collapsed_sections": [],
   "toc_visible": true
  },
  "kernelspec": {
   "name": "python3",
   "display_name": "Python 3"
  },
  "language_info": {
   "name": "python"
  },
  "widgets": {
   "application/vnd.jupyter.widget-state+json": {
    "ef28e97f14974c9bb586983a488002f8": {
     "model_module": "@jupyter-widgets/controls",
     "model_name": "HBoxModel",
     "model_module_version": "1.5.0",
     "state": {
      "_view_name": "HBoxView",
      "_dom_classes": [],
      "_model_name": "HBoxModel",
      "_view_module": "@jupyter-widgets/controls",
      "_model_module_version": "1.5.0",
      "_view_count": null,
      "_view_module_version": "1.5.0",
      "box_style": "",
      "layout": "IPY_MODEL_94d3d0a64cb3462aa1930250991fb3f1",
      "_model_module": "@jupyter-widgets/controls",
      "children": [
       "IPY_MODEL_abadb4f2d0614c44a06fce0ff5283c74",
       "IPY_MODEL_b1ee7f20d0444d7ab4b504318ba7ff31",
       "IPY_MODEL_a47f1b078dcd4925936e0c296d8b50f6"
      ]
     }
    },
    "94d3d0a64cb3462aa1930250991fb3f1": {
     "model_module": "@jupyter-widgets/base",
     "model_name": "LayoutModel",
     "model_module_version": "1.2.0",
     "state": {
      "_view_name": "LayoutView",
      "grid_template_rows": null,
      "right": null,
      "justify_content": null,
      "_view_module": "@jupyter-widgets/base",
      "overflow": null,
      "_model_module_version": "1.2.0",
      "_view_count": null,
      "flex_flow": null,
      "width": null,
      "min_width": null,
      "border": null,
      "align_items": null,
      "bottom": null,
      "_model_module": "@jupyter-widgets/base",
      "top": null,
      "grid_column": null,
      "overflow_y": null,
      "overflow_x": null,
      "grid_auto_flow": null,
      "grid_area": null,
      "grid_template_columns": null,
      "flex": null,
      "_model_name": "LayoutModel",
      "justify_items": null,
      "grid_row": null,
      "max_height": null,
      "align_content": null,
      "visibility": null,
      "align_self": null,
      "height": null,
      "min_height": null,
      "padding": null,
      "grid_auto_rows": null,
      "grid_gap": null,
      "max_width": null,
      "order": null,
      "_view_module_version": "1.2.0",
      "grid_template_areas": null,
      "object_position": null,
      "object_fit": null,
      "grid_auto_columns": null,
      "margin": null,
      "display": null,
      "left": null
     }
    },
    "abadb4f2d0614c44a06fce0ff5283c74": {
     "model_module": "@jupyter-widgets/controls",
     "model_name": "HTMLModel",
     "model_module_version": "1.5.0",
     "state": {
      "_view_name": "HTMLView",
      "style": "IPY_MODEL_268c5d30b1324610a92d6d084d433c28",
      "_dom_classes": [],
      "description": "",
      "_model_name": "HTMLModel",
      "placeholder": "​",
      "_view_module": "@jupyter-widgets/controls",
      "_model_module_version": "1.5.0",
      "value": "Computing transition probabilities: 100%",
      "_view_count": null,
      "_view_module_version": "1.5.0",
      "description_tooltip": null,
      "_model_module": "@jupyter-widgets/controls",
      "layout": "IPY_MODEL_a2f88d4658f047c78891d2f123617db5"
     }
    },
    "b1ee7f20d0444d7ab4b504318ba7ff31": {
     "model_module": "@jupyter-widgets/controls",
     "model_name": "FloatProgressModel",
     "model_module_version": "1.5.0",
     "state": {
      "_view_name": "ProgressView",
      "style": "IPY_MODEL_c25cbc7a84914a5f8a441d2e5315613b",
      "_dom_classes": [],
      "description": "",
      "_model_name": "FloatProgressModel",
      "bar_style": "success",
      "max": 18,
      "_view_module": "@jupyter-widgets/controls",
      "_model_module_version": "1.5.0",
      "value": 18,
      "_view_count": null,
      "_view_module_version": "1.5.0",
      "orientation": "horizontal",
      "min": 0,
      "description_tooltip": null,
      "_model_module": "@jupyter-widgets/controls",
      "layout": "IPY_MODEL_6c46c5660be6464085720fdb081e5a40"
     }
    },
    "a47f1b078dcd4925936e0c296d8b50f6": {
     "model_module": "@jupyter-widgets/controls",
     "model_name": "HTMLModel",
     "model_module_version": "1.5.0",
     "state": {
      "_view_name": "HTMLView",
      "style": "IPY_MODEL_aebd52c944764d918f7f58f2b0a83434",
      "_dom_classes": [],
      "description": "",
      "_model_name": "HTMLModel",
      "placeholder": "​",
      "_view_module": "@jupyter-widgets/controls",
      "_model_module_version": "1.5.0",
      "value": " 18/18 [00:00&lt;00:00, 298.35it/s]",
      "_view_count": null,
      "_view_module_version": "1.5.0",
      "description_tooltip": null,
      "_model_module": "@jupyter-widgets/controls",
      "layout": "IPY_MODEL_b191ebf3e33f438d98616f5eca64ac79"
     }
    },
    "268c5d30b1324610a92d6d084d433c28": {
     "model_module": "@jupyter-widgets/controls",
     "model_name": "DescriptionStyleModel",
     "model_module_version": "1.5.0",
     "state": {
      "_view_name": "StyleView",
      "_model_name": "DescriptionStyleModel",
      "description_width": "",
      "_view_module": "@jupyter-widgets/base",
      "_model_module_version": "1.5.0",
      "_view_count": null,
      "_view_module_version": "1.2.0",
      "_model_module": "@jupyter-widgets/controls"
     }
    },
    "a2f88d4658f047c78891d2f123617db5": {
     "model_module": "@jupyter-widgets/base",
     "model_name": "LayoutModel",
     "model_module_version": "1.2.0",
     "state": {
      "_view_name": "LayoutView",
      "grid_template_rows": null,
      "right": null,
      "justify_content": null,
      "_view_module": "@jupyter-widgets/base",
      "overflow": null,
      "_model_module_version": "1.2.0",
      "_view_count": null,
      "flex_flow": null,
      "width": null,
      "min_width": null,
      "border": null,
      "align_items": null,
      "bottom": null,
      "_model_module": "@jupyter-widgets/base",
      "top": null,
      "grid_column": null,
      "overflow_y": null,
      "overflow_x": null,
      "grid_auto_flow": null,
      "grid_area": null,
      "grid_template_columns": null,
      "flex": null,
      "_model_name": "LayoutModel",
      "justify_items": null,
      "grid_row": null,
      "max_height": null,
      "align_content": null,
      "visibility": null,
      "align_self": null,
      "height": null,
      "min_height": null,
      "padding": null,
      "grid_auto_rows": null,
      "grid_gap": null,
      "max_width": null,
      "order": null,
      "_view_module_version": "1.2.0",
      "grid_template_areas": null,
      "object_position": null,
      "object_fit": null,
      "grid_auto_columns": null,
      "margin": null,
      "display": null,
      "left": null
     }
    },
    "c25cbc7a84914a5f8a441d2e5315613b": {
     "model_module": "@jupyter-widgets/controls",
     "model_name": "ProgressStyleModel",
     "model_module_version": "1.5.0",
     "state": {
      "_view_name": "StyleView",
      "_model_name": "ProgressStyleModel",
      "description_width": "",
      "_view_module": "@jupyter-widgets/base",
      "_model_module_version": "1.5.0",
      "_view_count": null,
      "_view_module_version": "1.2.0",
      "bar_color": null,
      "_model_module": "@jupyter-widgets/controls"
     }
    },
    "6c46c5660be6464085720fdb081e5a40": {
     "model_module": "@jupyter-widgets/base",
     "model_name": "LayoutModel",
     "model_module_version": "1.2.0",
     "state": {
      "_view_name": "LayoutView",
      "grid_template_rows": null,
      "right": null,
      "justify_content": null,
      "_view_module": "@jupyter-widgets/base",
      "overflow": null,
      "_model_module_version": "1.2.0",
      "_view_count": null,
      "flex_flow": null,
      "width": null,
      "min_width": null,
      "border": null,
      "align_items": null,
      "bottom": null,
      "_model_module": "@jupyter-widgets/base",
      "top": null,
      "grid_column": null,
      "overflow_y": null,
      "overflow_x": null,
      "grid_auto_flow": null,
      "grid_area": null,
      "grid_template_columns": null,
      "flex": null,
      "_model_name": "LayoutModel",
      "justify_items": null,
      "grid_row": null,
      "max_height": null,
      "align_content": null,
      "visibility": null,
      "align_self": null,
      "height": null,
      "min_height": null,
      "padding": null,
      "grid_auto_rows": null,
      "grid_gap": null,
      "max_width": null,
      "order": null,
      "_view_module_version": "1.2.0",
      "grid_template_areas": null,
      "object_position": null,
      "object_fit": null,
      "grid_auto_columns": null,
      "margin": null,
      "display": null,
      "left": null
     }
    },
    "aebd52c944764d918f7f58f2b0a83434": {
     "model_module": "@jupyter-widgets/controls",
     "model_name": "DescriptionStyleModel",
     "model_module_version": "1.5.0",
     "state": {
      "_view_name": "StyleView",
      "_model_name": "DescriptionStyleModel",
      "description_width": "",
      "_view_module": "@jupyter-widgets/base",
      "_model_module_version": "1.5.0",
      "_view_count": null,
      "_view_module_version": "1.2.0",
      "_model_module": "@jupyter-widgets/controls"
     }
    },
    "b191ebf3e33f438d98616f5eca64ac79": {
     "model_module": "@jupyter-widgets/base",
     "model_name": "LayoutModel",
     "model_module_version": "1.2.0",
     "state": {
      "_view_name": "LayoutView",
      "grid_template_rows": null,
      "right": null,
      "justify_content": null,
      "_view_module": "@jupyter-widgets/base",
      "overflow": null,
      "_model_module_version": "1.2.0",
      "_view_count": null,
      "flex_flow": null,
      "width": null,
      "min_width": null,
      "border": null,
      "align_items": null,
      "bottom": null,
      "_model_module": "@jupyter-widgets/base",
      "top": null,
      "grid_column": null,
      "overflow_y": null,
      "overflow_x": null,
      "grid_auto_flow": null,
      "grid_area": null,
      "grid_template_columns": null,
      "flex": null,
      "_model_name": "LayoutModel",
      "justify_items": null,
      "grid_row": null,
      "max_height": null,
      "align_content": null,
      "visibility": null,
      "align_self": null,
      "height": null,
      "min_height": null,
      "padding": null,
      "grid_auto_rows": null,
      "grid_gap": null,
      "max_width": null,
      "order": null,
      "_view_module_version": "1.2.0",
      "grid_template_areas": null,
      "object_position": null,
      "object_fit": null,
      "grid_auto_columns": null,
      "margin": null,
      "display": null,
      "left": null
     }
    },
    "3fb4a5a537f64323992a00ea84f14b13": {
     "model_module": "@jupyter-widgets/controls",
     "model_name": "HBoxModel",
     "model_module_version": "1.5.0",
     "state": {
      "_view_name": "HBoxView",
      "_dom_classes": [],
      "_model_name": "HBoxModel",
      "_view_module": "@jupyter-widgets/controls",
      "_model_module_version": "1.5.0",
      "_view_count": null,
      "_view_module_version": "1.5.0",
      "box_style": "",
      "layout": "IPY_MODEL_677d73601fc84d3ab51afc2b5ba45b70",
      "_model_module": "@jupyter-widgets/controls",
      "children": [
       "IPY_MODEL_273cfb2e21d34caab2499767f8bd62f8",
       "IPY_MODEL_34e071b8d4704ea29f2aa1fbf80465e1",
       "IPY_MODEL_e1c7163cc32b4dcba6d0dac2b951e11f"
      ]
     }
    },
    "677d73601fc84d3ab51afc2b5ba45b70": {
     "model_module": "@jupyter-widgets/base",
     "model_name": "LayoutModel",
     "model_module_version": "1.2.0",
     "state": {
      "_view_name": "LayoutView",
      "grid_template_rows": null,
      "right": null,
      "justify_content": null,
      "_view_module": "@jupyter-widgets/base",
      "overflow": null,
      "_model_module_version": "1.2.0",
      "_view_count": null,
      "flex_flow": null,
      "width": null,
      "min_width": null,
      "border": null,
      "align_items": null,
      "bottom": null,
      "_model_module": "@jupyter-widgets/base",
      "top": null,
      "grid_column": null,
      "overflow_y": null,
      "overflow_x": null,
      "grid_auto_flow": null,
      "grid_area": null,
      "grid_template_columns": null,
      "flex": null,
      "_model_name": "LayoutModel",
      "justify_items": null,
      "grid_row": null,
      "max_height": null,
      "align_content": null,
      "visibility": null,
      "align_self": null,
      "height": null,
      "min_height": null,
      "padding": null,
      "grid_auto_rows": null,
      "grid_gap": null,
      "max_width": null,
      "order": null,
      "_view_module_version": "1.2.0",
      "grid_template_areas": null,
      "object_position": null,
      "object_fit": null,
      "grid_auto_columns": null,
      "margin": null,
      "display": null,
      "left": null
     }
    },
    "273cfb2e21d34caab2499767f8bd62f8": {
     "model_module": "@jupyter-widgets/controls",
     "model_name": "HTMLModel",
     "model_module_version": "1.5.0",
     "state": {
      "_view_name": "HTMLView",
      "style": "IPY_MODEL_23367beb24404d458df5ecf753354102",
      "_dom_classes": [],
      "description": "",
      "_model_name": "HTMLModel",
      "placeholder": "​",
      "_view_module": "@jupyter-widgets/controls",
      "_model_module_version": "1.5.0",
      "value": "100%",
      "_view_count": null,
      "_view_module_version": "1.5.0",
      "description_tooltip": null,
      "_model_module": "@jupyter-widgets/controls",
      "layout": "IPY_MODEL_796c541728f645f489dcb532867741d0"
     }
    },
    "34e071b8d4704ea29f2aa1fbf80465e1": {
     "model_module": "@jupyter-widgets/controls",
     "model_name": "FloatProgressModel",
     "model_module_version": "1.5.0",
     "state": {
      "_view_name": "ProgressView",
      "style": "IPY_MODEL_6133da44c30942a69846005470103cb4",
      "_dom_classes": [],
      "description": "",
      "_model_name": "FloatProgressModel",
      "bar_style": "success",
      "max": 10788,
      "_view_module": "@jupyter-widgets/controls",
      "_model_module_version": "1.5.0",
      "value": 10788,
      "_view_count": null,
      "_view_module_version": "1.5.0",
      "orientation": "horizontal",
      "min": 0,
      "description_tooltip": null,
      "_model_module": "@jupyter-widgets/controls",
      "layout": "IPY_MODEL_3df3f2089bda48e19b843b0ce2b24ed8"
     }
    },
    "e1c7163cc32b4dcba6d0dac2b951e11f": {
     "model_module": "@jupyter-widgets/controls",
     "model_name": "HTMLModel",
     "model_module_version": "1.5.0",
     "state": {
      "_view_name": "HTMLView",
      "style": "IPY_MODEL_8f48687bc9424b57891d351972f24db5",
      "_dom_classes": [],
      "description": "",
      "_model_name": "HTMLModel",
      "placeholder": "​",
      "_view_module": "@jupyter-widgets/controls",
      "_model_module_version": "1.5.0",
      "value": " 10788/10788 [01:54&lt;00:00, 100.64it/s]",
      "_view_count": null,
      "_view_module_version": "1.5.0",
      "description_tooltip": null,
      "_model_module": "@jupyter-widgets/controls",
      "layout": "IPY_MODEL_8f966157fd7049cc88194029a692c51b"
     }
    },
    "23367beb24404d458df5ecf753354102": {
     "model_module": "@jupyter-widgets/controls",
     "model_name": "DescriptionStyleModel",
     "model_module_version": "1.5.0",
     "state": {
      "_view_name": "StyleView",
      "_model_name": "DescriptionStyleModel",
      "description_width": "",
      "_view_module": "@jupyter-widgets/base",
      "_model_module_version": "1.5.0",
      "_view_count": null,
      "_view_module_version": "1.2.0",
      "_model_module": "@jupyter-widgets/controls"
     }
    },
    "796c541728f645f489dcb532867741d0": {
     "model_module": "@jupyter-widgets/base",
     "model_name": "LayoutModel",
     "model_module_version": "1.2.0",
     "state": {
      "_view_name": "LayoutView",
      "grid_template_rows": null,
      "right": null,
      "justify_content": null,
      "_view_module": "@jupyter-widgets/base",
      "overflow": null,
      "_model_module_version": "1.2.0",
      "_view_count": null,
      "flex_flow": null,
      "width": null,
      "min_width": null,
      "border": null,
      "align_items": null,
      "bottom": null,
      "_model_module": "@jupyter-widgets/base",
      "top": null,
      "grid_column": null,
      "overflow_y": null,
      "overflow_x": null,
      "grid_auto_flow": null,
      "grid_area": null,
      "grid_template_columns": null,
      "flex": null,
      "_model_name": "LayoutModel",
      "justify_items": null,
      "grid_row": null,
      "max_height": null,
      "align_content": null,
      "visibility": null,
      "align_self": null,
      "height": null,
      "min_height": null,
      "padding": null,
      "grid_auto_rows": null,
      "grid_gap": null,
      "max_width": null,
      "order": null,
      "_view_module_version": "1.2.0",
      "grid_template_areas": null,
      "object_position": null,
      "object_fit": null,
      "grid_auto_columns": null,
      "margin": null,
      "display": null,
      "left": null
     }
    },
    "6133da44c30942a69846005470103cb4": {
     "model_module": "@jupyter-widgets/controls",
     "model_name": "ProgressStyleModel",
     "model_module_version": "1.5.0",
     "state": {
      "_view_name": "StyleView",
      "_model_name": "ProgressStyleModel",
      "description_width": "",
      "_view_module": "@jupyter-widgets/base",
      "_model_module_version": "1.5.0",
      "_view_count": null,
      "_view_module_version": "1.2.0",
      "bar_color": null,
      "_model_module": "@jupyter-widgets/controls"
     }
    },
    "3df3f2089bda48e19b843b0ce2b24ed8": {
     "model_module": "@jupyter-widgets/base",
     "model_name": "LayoutModel",
     "model_module_version": "1.2.0",
     "state": {
      "_view_name": "LayoutView",
      "grid_template_rows": null,
      "right": null,
      "justify_content": null,
      "_view_module": "@jupyter-widgets/base",
      "overflow": null,
      "_model_module_version": "1.2.0",
      "_view_count": null,
      "flex_flow": null,
      "width": null,
      "min_width": null,
      "border": null,
      "align_items": null,
      "bottom": null,
      "_model_module": "@jupyter-widgets/base",
      "top": null,
      "grid_column": null,
      "overflow_y": null,
      "overflow_x": null,
      "grid_auto_flow": null,
      "grid_area": null,
      "grid_template_columns": null,
      "flex": null,
      "_model_name": "LayoutModel",
      "justify_items": null,
      "grid_row": null,
      "max_height": null,
      "align_content": null,
      "visibility": null,
      "align_self": null,
      "height": null,
      "min_height": null,
      "padding": null,
      "grid_auto_rows": null,
      "grid_gap": null,
      "max_width": null,
      "order": null,
      "_view_module_version": "1.2.0",
      "grid_template_areas": null,
      "object_position": null,
      "object_fit": null,
      "grid_auto_columns": null,
      "margin": null,
      "display": null,
      "left": null
     }
    },
    "8f48687bc9424b57891d351972f24db5": {
     "model_module": "@jupyter-widgets/controls",
     "model_name": "DescriptionStyleModel",
     "model_module_version": "1.5.0",
     "state": {
      "_view_name": "StyleView",
      "_model_name": "DescriptionStyleModel",
      "description_width": "",
      "_view_module": "@jupyter-widgets/base",
      "_model_module_version": "1.5.0",
      "_view_count": null,
      "_view_module_version": "1.2.0",
      "_model_module": "@jupyter-widgets/controls"
     }
    },
    "8f966157fd7049cc88194029a692c51b": {
     "model_module": "@jupyter-widgets/base",
     "model_name": "LayoutModel",
     "model_module_version": "1.2.0",
     "state": {
      "_view_name": "LayoutView",
      "grid_template_rows": null,
      "right": null,
      "justify_content": null,
      "_view_module": "@jupyter-widgets/base",
      "overflow": null,
      "_model_module_version": "1.2.0",
      "_view_count": null,
      "flex_flow": null,
      "width": null,
      "min_width": null,
      "border": null,
      "align_items": null,
      "bottom": null,
      "_model_module": "@jupyter-widgets/base",
      "top": null,
      "grid_column": null,
      "overflow_y": null,
      "overflow_x": null,
      "grid_auto_flow": null,
      "grid_area": null,
      "grid_template_columns": null,
      "flex": null,
      "_model_name": "LayoutModel",
      "justify_items": null,
      "grid_row": null,
      "max_height": null,
      "align_content": null,
      "visibility": null,
      "align_self": null,
      "height": null,
      "min_height": null,
      "padding": null,
      "grid_auto_rows": null,
      "grid_gap": null,
      "max_width": null,
      "order": null,
      "_view_module_version": "1.2.0",
      "grid_template_areas": null,
      "object_position": null,
      "object_fit": null,
      "grid_auto_columns": null,
      "margin": null,
      "display": null,
      "left": null
     }
    },
    "e71378226d964e4885d884ab122c8757": {
     "model_module": "@jupyter-widgets/controls",
     "model_name": "HBoxModel",
     "model_module_version": "1.5.0",
     "state": {
      "_view_name": "HBoxView",
      "_dom_classes": [],
      "_model_name": "HBoxModel",
      "_view_module": "@jupyter-widgets/controls",
      "_model_module_version": "1.5.0",
      "_view_count": null,
      "_view_module_version": "1.5.0",
      "box_style": "",
      "layout": "IPY_MODEL_c18bb3817b744b66a02f0df0135557e5",
      "_model_module": "@jupyter-widgets/controls",
      "children": [
       "IPY_MODEL_b8b33946db5447e097ac3342e52c77e5",
       "IPY_MODEL_9fbabb88478448d8a9dcd8f069da357a",
       "IPY_MODEL_618fdc6b7e5d4c038eda106f1041bd5c"
      ]
     }
    },
    "c18bb3817b744b66a02f0df0135557e5": {
     "model_module": "@jupyter-widgets/base",
     "model_name": "LayoutModel",
     "model_module_version": "1.2.0",
     "state": {
      "_view_name": "LayoutView",
      "grid_template_rows": null,
      "right": null,
      "justify_content": null,
      "_view_module": "@jupyter-widgets/base",
      "overflow": null,
      "_model_module_version": "1.2.0",
      "_view_count": null,
      "flex_flow": null,
      "width": null,
      "min_width": null,
      "border": null,
      "align_items": null,
      "bottom": null,
      "_model_module": "@jupyter-widgets/base",
      "top": null,
      "grid_column": null,
      "overflow_y": null,
      "overflow_x": null,
      "grid_auto_flow": null,
      "grid_area": null,
      "grid_template_columns": null,
      "flex": null,
      "_model_name": "LayoutModel",
      "justify_items": null,
      "grid_row": null,
      "max_height": null,
      "align_content": null,
      "visibility": null,
      "align_self": null,
      "height": null,
      "min_height": null,
      "padding": null,
      "grid_auto_rows": null,
      "grid_gap": null,
      "max_width": null,
      "order": null,
      "_view_module_version": "1.2.0",
      "grid_template_areas": null,
      "object_position": null,
      "object_fit": null,
      "grid_auto_columns": null,
      "margin": null,
      "display": null,
      "left": null
     }
    },
    "b8b33946db5447e097ac3342e52c77e5": {
     "model_module": "@jupyter-widgets/controls",
     "model_name": "HTMLModel",
     "model_module_version": "1.5.0",
     "state": {
      "_view_name": "HTMLView",
      "style": "IPY_MODEL_8dc3e1f58c4d4be6a3300b2e39227ce9",
      "_dom_classes": [],
      "description": "",
      "_model_name": "HTMLModel",
      "placeholder": "​",
      "_view_module": "@jupyter-widgets/controls",
      "_model_module_version": "1.5.0",
      "value": "100%",
      "_view_count": null,
      "_view_module_version": "1.5.0",
      "description_tooltip": null,
      "_model_module": "@jupyter-widgets/controls",
      "layout": "IPY_MODEL_4094be6f974e4f63b338af37938768d3"
     }
    },
    "9fbabb88478448d8a9dcd8f069da357a": {
     "model_module": "@jupyter-widgets/controls",
     "model_name": "FloatProgressModel",
     "model_module_version": "1.5.0",
     "state": {
      "_view_name": "ProgressView",
      "style": "IPY_MODEL_f185a1b32ea74b2688bc92675b109d21",
      "_dom_classes": [],
      "description": "",
      "_model_name": "FloatProgressModel",
      "bar_style": "success",
      "max": 10788,
      "_view_module": "@jupyter-widgets/controls",
      "_model_module_version": "1.5.0",
      "value": 10788,
      "_view_count": null,
      "_view_module_version": "1.5.0",
      "orientation": "horizontal",
      "min": 0,
      "description_tooltip": null,
      "_model_module": "@jupyter-widgets/controls",
      "layout": "IPY_MODEL_b84e51775a20471a835158d15c0723ff"
     }
    },
    "618fdc6b7e5d4c038eda106f1041bd5c": {
     "model_module": "@jupyter-widgets/controls",
     "model_name": "HTMLModel",
     "model_module_version": "1.5.0",
     "state": {
      "_view_name": "HTMLView",
      "style": "IPY_MODEL_b6b2b82a74cd4ee3a74081965bcd4bf1",
      "_dom_classes": [],
      "description": "",
      "_model_name": "HTMLModel",
      "placeholder": "​",
      "_view_module": "@jupyter-widgets/controls",
      "_model_module_version": "1.5.0",
      "value": " 10788/10788 [00:02&lt;00:00, 5067.53it/s]",
      "_view_count": null,
      "_view_module_version": "1.5.0",
      "description_tooltip": null,
      "_model_module": "@jupyter-widgets/controls",
      "layout": "IPY_MODEL_7810f50a43084c84af43178127b740e4"
     }
    },
    "8dc3e1f58c4d4be6a3300b2e39227ce9": {
     "model_module": "@jupyter-widgets/controls",
     "model_name": "DescriptionStyleModel",
     "model_module_version": "1.5.0",
     "state": {
      "_view_name": "StyleView",
      "_model_name": "DescriptionStyleModel",
      "description_width": "",
      "_view_module": "@jupyter-widgets/base",
      "_model_module_version": "1.5.0",
      "_view_count": null,
      "_view_module_version": "1.2.0",
      "_model_module": "@jupyter-widgets/controls"
     }
    },
    "4094be6f974e4f63b338af37938768d3": {
     "model_module": "@jupyter-widgets/base",
     "model_name": "LayoutModel",
     "model_module_version": "1.2.0",
     "state": {
      "_view_name": "LayoutView",
      "grid_template_rows": null,
      "right": null,
      "justify_content": null,
      "_view_module": "@jupyter-widgets/base",
      "overflow": null,
      "_model_module_version": "1.2.0",
      "_view_count": null,
      "flex_flow": null,
      "width": null,
      "min_width": null,
      "border": null,
      "align_items": null,
      "bottom": null,
      "_model_module": "@jupyter-widgets/base",
      "top": null,
      "grid_column": null,
      "overflow_y": null,
      "overflow_x": null,
      "grid_auto_flow": null,
      "grid_area": null,
      "grid_template_columns": null,
      "flex": null,
      "_model_name": "LayoutModel",
      "justify_items": null,
      "grid_row": null,
      "max_height": null,
      "align_content": null,
      "visibility": null,
      "align_self": null,
      "height": null,
      "min_height": null,
      "padding": null,
      "grid_auto_rows": null,
      "grid_gap": null,
      "max_width": null,
      "order": null,
      "_view_module_version": "1.2.0",
      "grid_template_areas": null,
      "object_position": null,
      "object_fit": null,
      "grid_auto_columns": null,
      "margin": null,
      "display": null,
      "left": null
     }
    },
    "f185a1b32ea74b2688bc92675b109d21": {
     "model_module": "@jupyter-widgets/controls",
     "model_name": "ProgressStyleModel",
     "model_module_version": "1.5.0",
     "state": {
      "_view_name": "StyleView",
      "_model_name": "ProgressStyleModel",
      "description_width": "",
      "_view_module": "@jupyter-widgets/base",
      "_model_module_version": "1.5.0",
      "_view_count": null,
      "_view_module_version": "1.2.0",
      "bar_color": null,
      "_model_module": "@jupyter-widgets/controls"
     }
    },
    "b84e51775a20471a835158d15c0723ff": {
     "model_module": "@jupyter-widgets/base",
     "model_name": "LayoutModel",
     "model_module_version": "1.2.0",
     "state": {
      "_view_name": "LayoutView",
      "grid_template_rows": null,
      "right": null,
      "justify_content": null,
      "_view_module": "@jupyter-widgets/base",
      "overflow": null,
      "_model_module_version": "1.2.0",
      "_view_count": null,
      "flex_flow": null,
      "width": null,
      "min_width": null,
      "border": null,
      "align_items": null,
      "bottom": null,
      "_model_module": "@jupyter-widgets/base",
      "top": null,
      "grid_column": null,
      "overflow_y": null,
      "overflow_x": null,
      "grid_auto_flow": null,
      "grid_area": null,
      "grid_template_columns": null,
      "flex": null,
      "_model_name": "LayoutModel",
      "justify_items": null,
      "grid_row": null,
      "max_height": null,
      "align_content": null,
      "visibility": null,
      "align_self": null,
      "height": null,
      "min_height": null,
      "padding": null,
      "grid_auto_rows": null,
      "grid_gap": null,
      "max_width": null,
      "order": null,
      "_view_module_version": "1.2.0",
      "grid_template_areas": null,
      "object_position": null,
      "object_fit": null,
      "grid_auto_columns": null,
      "margin": null,
      "display": null,
      "left": null
     }
    },
    "b6b2b82a74cd4ee3a74081965bcd4bf1": {
     "model_module": "@jupyter-widgets/controls",
     "model_name": "DescriptionStyleModel",
     "model_module_version": "1.5.0",
     "state": {
      "_view_name": "StyleView",
      "_model_name": "DescriptionStyleModel",
      "description_width": "",
      "_view_module": "@jupyter-widgets/base",
      "_model_module_version": "1.5.0",
      "_view_count": null,
      "_view_module_version": "1.2.0",
      "_model_module": "@jupyter-widgets/controls"
     }
    },
    "7810f50a43084c84af43178127b740e4": {
     "model_module": "@jupyter-widgets/base",
     "model_name": "LayoutModel",
     "model_module_version": "1.2.0",
     "state": {
      "_view_name": "LayoutView",
      "grid_template_rows": null,
      "right": null,
      "justify_content": null,
      "_view_module": "@jupyter-widgets/base",
      "overflow": null,
      "_model_module_version": "1.2.0",
      "_view_count": null,
      "flex_flow": null,
      "width": null,
      "min_width": null,
      "border": null,
      "align_items": null,
      "bottom": null,
      "_model_module": "@jupyter-widgets/base",
      "top": null,
      "grid_column": null,
      "overflow_y": null,
      "overflow_x": null,
      "grid_auto_flow": null,
      "grid_area": null,
      "grid_template_columns": null,
      "flex": null,
      "_model_name": "LayoutModel",
      "justify_items": null,
      "grid_row": null,
      "max_height": null,
      "align_content": null,
      "visibility": null,
      "align_self": null,
      "height": null,
      "min_height": null,
      "padding": null,
      "grid_auto_rows": null,
      "grid_gap": null,
      "max_width": null,
      "order": null,
      "_view_module_version": "1.2.0",
      "grid_template_areas": null,
      "object_position": null,
      "object_fit": null,
      "grid_auto_columns": null,
      "margin": null,
      "display": null,
      "left": null
     }
    },
    "ebf9d3166c364c3c89b15aadf96efc98": {
     "model_module": "@jupyter-widgets/controls",
     "model_name": "HBoxModel",
     "model_module_version": "1.5.0",
     "state": {
      "_view_name": "HBoxView",
      "_dom_classes": [],
      "_model_name": "HBoxModel",
      "_view_module": "@jupyter-widgets/controls",
      "_model_module_version": "1.5.0",
      "_view_count": null,
      "_view_module_version": "1.5.0",
      "box_style": "",
      "layout": "IPY_MODEL_04a13f3166d349b78579aa0c72963697",
      "_model_module": "@jupyter-widgets/controls",
      "children": [
       "IPY_MODEL_b0ef1f6a85cd49b2a415c878bae8ffad",
       "IPY_MODEL_6ca8678f68aa465ab79acbf95b78a562",
       "IPY_MODEL_9e5edd69701648b7aa0bd1988160f40a"
      ]
     }
    },
    "04a13f3166d349b78579aa0c72963697": {
     "model_module": "@jupyter-widgets/base",
     "model_name": "LayoutModel",
     "model_module_version": "1.2.0",
     "state": {
      "_view_name": "LayoutView",
      "grid_template_rows": null,
      "right": null,
      "justify_content": null,
      "_view_module": "@jupyter-widgets/base",
      "overflow": null,
      "_model_module_version": "1.2.0",
      "_view_count": null,
      "flex_flow": null,
      "width": null,
      "min_width": null,
      "border": null,
      "align_items": null,
      "bottom": null,
      "_model_module": "@jupyter-widgets/base",
      "top": null,
      "grid_column": null,
      "overflow_y": null,
      "overflow_x": null,
      "grid_auto_flow": null,
      "grid_area": null,
      "grid_template_columns": null,
      "flex": null,
      "_model_name": "LayoutModel",
      "justify_items": null,
      "grid_row": null,
      "max_height": null,
      "align_content": null,
      "visibility": null,
      "align_self": null,
      "height": null,
      "min_height": null,
      "padding": null,
      "grid_auto_rows": null,
      "grid_gap": null,
      "max_width": null,
      "order": null,
      "_view_module_version": "1.2.0",
      "grid_template_areas": null,
      "object_position": null,
      "object_fit": null,
      "grid_auto_columns": null,
      "margin": null,
      "display": null,
      "left": null
     }
    },
    "b0ef1f6a85cd49b2a415c878bae8ffad": {
     "model_module": "@jupyter-widgets/controls",
     "model_name": "HTMLModel",
     "model_module_version": "1.5.0",
     "state": {
      "_view_name": "HTMLView",
      "style": "IPY_MODEL_0fdfba14d5004cf193a03c7557c3d911",
      "_dom_classes": [],
      "description": "",
      "_model_name": "HTMLModel",
      "placeholder": "​",
      "_view_module": "@jupyter-widgets/controls",
      "_model_module_version": "1.5.0",
      "value": "100%",
      "_view_count": null,
      "_view_module_version": "1.5.0",
      "description_tooltip": null,
      "_model_module": "@jupyter-widgets/controls",
      "layout": "IPY_MODEL_7ad89034115445ad8898d70e4def32cb"
     }
    },
    "6ca8678f68aa465ab79acbf95b78a562": {
     "model_module": "@jupyter-widgets/controls",
     "model_name": "FloatProgressModel",
     "model_module_version": "1.5.0",
     "state": {
      "_view_name": "ProgressView",
      "style": "IPY_MODEL_817e7ad25bd6453c85390b3af1c6fe17",
      "_dom_classes": [],
      "description": "",
      "_model_name": "FloatProgressModel",
      "bar_style": "success",
      "max": 10788,
      "_view_module": "@jupyter-widgets/controls",
      "_model_module_version": "1.5.0",
      "value": 10788,
      "_view_count": null,
      "_view_module_version": "1.5.0",
      "orientation": "horizontal",
      "min": 0,
      "description_tooltip": null,
      "_model_module": "@jupyter-widgets/controls",
      "layout": "IPY_MODEL_655049c8df1e43018e5a977eb8a63abb"
     }
    },
    "9e5edd69701648b7aa0bd1988160f40a": {
     "model_module": "@jupyter-widgets/controls",
     "model_name": "HTMLModel",
     "model_module_version": "1.5.0",
     "state": {
      "_view_name": "HTMLView",
      "style": "IPY_MODEL_4fe3ff0fbdd246868abf22cf616682f8",
      "_dom_classes": [],
      "description": "",
      "_model_name": "HTMLModel",
      "placeholder": "​",
      "_view_module": "@jupyter-widgets/controls",
      "_model_module_version": "1.5.0",
      "value": " 10788/10788 [05:33&lt;00:00, 31.35it/s]",
      "_view_count": null,
      "_view_module_version": "1.5.0",
      "description_tooltip": null,
      "_model_module": "@jupyter-widgets/controls",
      "layout": "IPY_MODEL_6c35fe5ca2f544f3a1740a12fe3e2ea2"
     }
    },
    "0fdfba14d5004cf193a03c7557c3d911": {
     "model_module": "@jupyter-widgets/controls",
     "model_name": "DescriptionStyleModel",
     "model_module_version": "1.5.0",
     "state": {
      "_view_name": "StyleView",
      "_model_name": "DescriptionStyleModel",
      "description_width": "",
      "_view_module": "@jupyter-widgets/base",
      "_model_module_version": "1.5.0",
      "_view_count": null,
      "_view_module_version": "1.2.0",
      "_model_module": "@jupyter-widgets/controls"
     }
    },
    "7ad89034115445ad8898d70e4def32cb": {
     "model_module": "@jupyter-widgets/base",
     "model_name": "LayoutModel",
     "model_module_version": "1.2.0",
     "state": {
      "_view_name": "LayoutView",
      "grid_template_rows": null,
      "right": null,
      "justify_content": null,
      "_view_module": "@jupyter-widgets/base",
      "overflow": null,
      "_model_module_version": "1.2.0",
      "_view_count": null,
      "flex_flow": null,
      "width": null,
      "min_width": null,
      "border": null,
      "align_items": null,
      "bottom": null,
      "_model_module": "@jupyter-widgets/base",
      "top": null,
      "grid_column": null,
      "overflow_y": null,
      "overflow_x": null,
      "grid_auto_flow": null,
      "grid_area": null,
      "grid_template_columns": null,
      "flex": null,
      "_model_name": "LayoutModel",
      "justify_items": null,
      "grid_row": null,
      "max_height": null,
      "align_content": null,
      "visibility": null,
      "align_self": null,
      "height": null,
      "min_height": null,
      "padding": null,
      "grid_auto_rows": null,
      "grid_gap": null,
      "max_width": null,
      "order": null,
      "_view_module_version": "1.2.0",
      "grid_template_areas": null,
      "object_position": null,
      "object_fit": null,
      "grid_auto_columns": null,
      "margin": null,
      "display": null,
      "left": null
     }
    },
    "817e7ad25bd6453c85390b3af1c6fe17": {
     "model_module": "@jupyter-widgets/controls",
     "model_name": "ProgressStyleModel",
     "model_module_version": "1.5.0",
     "state": {
      "_view_name": "StyleView",
      "_model_name": "ProgressStyleModel",
      "description_width": "",
      "_view_module": "@jupyter-widgets/base",
      "_model_module_version": "1.5.0",
      "_view_count": null,
      "_view_module_version": "1.2.0",
      "bar_color": null,
      "_model_module": "@jupyter-widgets/controls"
     }
    },
    "655049c8df1e43018e5a977eb8a63abb": {
     "model_module": "@jupyter-widgets/base",
     "model_name": "LayoutModel",
     "model_module_version": "1.2.0",
     "state": {
      "_view_name": "LayoutView",
      "grid_template_rows": null,
      "right": null,
      "justify_content": null,
      "_view_module": "@jupyter-widgets/base",
      "overflow": null,
      "_model_module_version": "1.2.0",
      "_view_count": null,
      "flex_flow": null,
      "width": null,
      "min_width": null,
      "border": null,
      "align_items": null,
      "bottom": null,
      "_model_module": "@jupyter-widgets/base",
      "top": null,
      "grid_column": null,
      "overflow_y": null,
      "overflow_x": null,
      "grid_auto_flow": null,
      "grid_area": null,
      "grid_template_columns": null,
      "flex": null,
      "_model_name": "LayoutModel",
      "justify_items": null,
      "grid_row": null,
      "max_height": null,
      "align_content": null,
      "visibility": null,
      "align_self": null,
      "height": null,
      "min_height": null,
      "padding": null,
      "grid_auto_rows": null,
      "grid_gap": null,
      "max_width": null,
      "order": null,
      "_view_module_version": "1.2.0",
      "grid_template_areas": null,
      "object_position": null,
      "object_fit": null,
      "grid_auto_columns": null,
      "margin": null,
      "display": null,
      "left": null
     }
    },
    "4fe3ff0fbdd246868abf22cf616682f8": {
     "model_module": "@jupyter-widgets/controls",
     "model_name": "DescriptionStyleModel",
     "model_module_version": "1.5.0",
     "state": {
      "_view_name": "StyleView",
      "_model_name": "DescriptionStyleModel",
      "description_width": "",
      "_view_module": "@jupyter-widgets/base",
      "_model_module_version": "1.5.0",
      "_view_count": null,
      "_view_module_version": "1.2.0",
      "_model_module": "@jupyter-widgets/controls"
     }
    },
    "6c35fe5ca2f544f3a1740a12fe3e2ea2": {
     "model_module": "@jupyter-widgets/base",
     "model_name": "LayoutModel",
     "model_module_version": "1.2.0",
     "state": {
      "_view_name": "LayoutView",
      "grid_template_rows": null,
      "right": null,
      "justify_content": null,
      "_view_module": "@jupyter-widgets/base",
      "overflow": null,
      "_model_module_version": "1.2.0",
      "_view_count": null,
      "flex_flow": null,
      "width": null,
      "min_width": null,
      "border": null,
      "align_items": null,
      "bottom": null,
      "_model_module": "@jupyter-widgets/base",
      "top": null,
      "grid_column": null,
      "overflow_y": null,
      "overflow_x": null,
      "grid_auto_flow": null,
      "grid_area": null,
      "grid_template_columns": null,
      "flex": null,
      "_model_name": "LayoutModel",
      "justify_items": null,
      "grid_row": null,
      "max_height": null,
      "align_content": null,
      "visibility": null,
      "align_self": null,
      "height": null,
      "min_height": null,
      "padding": null,
      "grid_auto_rows": null,
      "grid_gap": null,
      "max_width": null,
      "order": null,
      "_view_module_version": "1.2.0",
      "grid_template_areas": null,
      "object_position": null,
      "object_fit": null,
      "grid_auto_columns": null,
      "margin": null,
      "display": null,
      "left": null
     }
    },
    "3a5fb3a1e7d94773837df042ba81a705": {
     "model_module": "@jupyter-widgets/controls",
     "model_name": "HBoxModel",
     "model_module_version": "1.5.0",
     "state": {
      "_view_name": "HBoxView",
      "_dom_classes": [],
      "_model_name": "HBoxModel",
      "_view_module": "@jupyter-widgets/controls",
      "_model_module_version": "1.5.0",
      "_view_count": null,
      "_view_module_version": "1.5.0",
      "box_style": "",
      "layout": "IPY_MODEL_2f43e995312a4eb282c7bd2e17263750",
      "_model_module": "@jupyter-widgets/controls",
      "children": [
       "IPY_MODEL_74cd7732bf5b4e5b9388a354bb5b2dfc",
       "IPY_MODEL_f7d61b5e199642fdb898d30fc9142f63",
       "IPY_MODEL_cccd18789e5a42cda6c09fe1b6e87ac0"
      ]
     }
    },
    "2f43e995312a4eb282c7bd2e17263750": {
     "model_module": "@jupyter-widgets/base",
     "model_name": "LayoutModel",
     "model_module_version": "1.2.0",
     "state": {
      "_view_name": "LayoutView",
      "grid_template_rows": null,
      "right": null,
      "justify_content": null,
      "_view_module": "@jupyter-widgets/base",
      "overflow": null,
      "_model_module_version": "1.2.0",
      "_view_count": null,
      "flex_flow": null,
      "width": null,
      "min_width": null,
      "border": null,
      "align_items": null,
      "bottom": null,
      "_model_module": "@jupyter-widgets/base",
      "top": null,
      "grid_column": null,
      "overflow_y": null,
      "overflow_x": null,
      "grid_auto_flow": null,
      "grid_area": null,
      "grid_template_columns": null,
      "flex": null,
      "_model_name": "LayoutModel",
      "justify_items": null,
      "grid_row": null,
      "max_height": null,
      "align_content": null,
      "visibility": null,
      "align_self": null,
      "height": null,
      "min_height": null,
      "padding": null,
      "grid_auto_rows": null,
      "grid_gap": null,
      "max_width": null,
      "order": null,
      "_view_module_version": "1.2.0",
      "grid_template_areas": null,
      "object_position": null,
      "object_fit": null,
      "grid_auto_columns": null,
      "margin": null,
      "display": null,
      "left": null
     }
    },
    "74cd7732bf5b4e5b9388a354bb5b2dfc": {
     "model_module": "@jupyter-widgets/controls",
     "model_name": "HTMLModel",
     "model_module_version": "1.5.0",
     "state": {
      "_view_name": "HTMLView",
      "style": "IPY_MODEL_31023560ed9648b590bacd7081029288",
      "_dom_classes": [],
      "description": "",
      "_model_name": "HTMLModel",
      "placeholder": "​",
      "_view_module": "@jupyter-widgets/controls",
      "_model_module_version": "1.5.0",
      "value": "100%",
      "_view_count": null,
      "_view_module_version": "1.5.0",
      "description_tooltip": null,
      "_model_module": "@jupyter-widgets/controls",
      "layout": "IPY_MODEL_761d29d886644e829894976aa58e2ccf"
     }
    },
    "f7d61b5e199642fdb898d30fc9142f63": {
     "model_module": "@jupyter-widgets/controls",
     "model_name": "FloatProgressModel",
     "model_module_version": "1.5.0",
     "state": {
      "_view_name": "ProgressView",
      "style": "IPY_MODEL_af9cbc04d0584ec3b56c850759b7e0c0",
      "_dom_classes": [],
      "description": "",
      "_model_name": "FloatProgressModel",
      "bar_style": "success",
      "max": 10788,
      "_view_module": "@jupyter-widgets/controls",
      "_model_module_version": "1.5.0",
      "value": 10788,
      "_view_count": null,
      "_view_module_version": "1.5.0",
      "orientation": "horizontal",
      "min": 0,
      "description_tooltip": null,
      "_model_module": "@jupyter-widgets/controls",
      "layout": "IPY_MODEL_4c7ba7efaee24cde86bb7f31e1094acf"
     }
    },
    "cccd18789e5a42cda6c09fe1b6e87ac0": {
     "model_module": "@jupyter-widgets/controls",
     "model_name": "HTMLModel",
     "model_module_version": "1.5.0",
     "state": {
      "_view_name": "HTMLView",
      "style": "IPY_MODEL_4ac817767ac5431ca1b7c09e80c2890d",
      "_dom_classes": [],
      "description": "",
      "_model_name": "HTMLModel",
      "placeholder": "​",
      "_view_module": "@jupyter-widgets/controls",
      "_model_module_version": "1.5.0",
      "value": " 10788/10788 [00:03&lt;00:00, 3384.32it/s]",
      "_view_count": null,
      "_view_module_version": "1.5.0",
      "description_tooltip": null,
      "_model_module": "@jupyter-widgets/controls",
      "layout": "IPY_MODEL_01389e481b43482f883d6b96ddfc347d"
     }
    },
    "31023560ed9648b590bacd7081029288": {
     "model_module": "@jupyter-widgets/controls",
     "model_name": "DescriptionStyleModel",
     "model_module_version": "1.5.0",
     "state": {
      "_view_name": "StyleView",
      "_model_name": "DescriptionStyleModel",
      "description_width": "",
      "_view_module": "@jupyter-widgets/base",
      "_model_module_version": "1.5.0",
      "_view_count": null,
      "_view_module_version": "1.2.0",
      "_model_module": "@jupyter-widgets/controls"
     }
    },
    "761d29d886644e829894976aa58e2ccf": {
     "model_module": "@jupyter-widgets/base",
     "model_name": "LayoutModel",
     "model_module_version": "1.2.0",
     "state": {
      "_view_name": "LayoutView",
      "grid_template_rows": null,
      "right": null,
      "justify_content": null,
      "_view_module": "@jupyter-widgets/base",
      "overflow": null,
      "_model_module_version": "1.2.0",
      "_view_count": null,
      "flex_flow": null,
      "width": null,
      "min_width": null,
      "border": null,
      "align_items": null,
      "bottom": null,
      "_model_module": "@jupyter-widgets/base",
      "top": null,
      "grid_column": null,
      "overflow_y": null,
      "overflow_x": null,
      "grid_auto_flow": null,
      "grid_area": null,
      "grid_template_columns": null,
      "flex": null,
      "_model_name": "LayoutModel",
      "justify_items": null,
      "grid_row": null,
      "max_height": null,
      "align_content": null,
      "visibility": null,
      "align_self": null,
      "height": null,
      "min_height": null,
      "padding": null,
      "grid_auto_rows": null,
      "grid_gap": null,
      "max_width": null,
      "order": null,
      "_view_module_version": "1.2.0",
      "grid_template_areas": null,
      "object_position": null,
      "object_fit": null,
      "grid_auto_columns": null,
      "margin": null,
      "display": null,
      "left": null
     }
    },
    "af9cbc04d0584ec3b56c850759b7e0c0": {
     "model_module": "@jupyter-widgets/controls",
     "model_name": "ProgressStyleModel",
     "model_module_version": "1.5.0",
     "state": {
      "_view_name": "StyleView",
      "_model_name": "ProgressStyleModel",
      "description_width": "",
      "_view_module": "@jupyter-widgets/base",
      "_model_module_version": "1.5.0",
      "_view_count": null,
      "_view_module_version": "1.2.0",
      "bar_color": null,
      "_model_module": "@jupyter-widgets/controls"
     }
    },
    "4c7ba7efaee24cde86bb7f31e1094acf": {
     "model_module": "@jupyter-widgets/base",
     "model_name": "LayoutModel",
     "model_module_version": "1.2.0",
     "state": {
      "_view_name": "LayoutView",
      "grid_template_rows": null,
      "right": null,
      "justify_content": null,
      "_view_module": "@jupyter-widgets/base",
      "overflow": null,
      "_model_module_version": "1.2.0",
      "_view_count": null,
      "flex_flow": null,
      "width": null,
      "min_width": null,
      "border": null,
      "align_items": null,
      "bottom": null,
      "_model_module": "@jupyter-widgets/base",
      "top": null,
      "grid_column": null,
      "overflow_y": null,
      "overflow_x": null,
      "grid_auto_flow": null,
      "grid_area": null,
      "grid_template_columns": null,
      "flex": null,
      "_model_name": "LayoutModel",
      "justify_items": null,
      "grid_row": null,
      "max_height": null,
      "align_content": null,
      "visibility": null,
      "align_self": null,
      "height": null,
      "min_height": null,
      "padding": null,
      "grid_auto_rows": null,
      "grid_gap": null,
      "max_width": null,
      "order": null,
      "_view_module_version": "1.2.0",
      "grid_template_areas": null,
      "object_position": null,
      "object_fit": null,
      "grid_auto_columns": null,
      "margin": null,
      "display": null,
      "left": null
     }
    },
    "4ac817767ac5431ca1b7c09e80c2890d": {
     "model_module": "@jupyter-widgets/controls",
     "model_name": "DescriptionStyleModel",
     "model_module_version": "1.5.0",
     "state": {
      "_view_name": "StyleView",
      "_model_name": "DescriptionStyleModel",
      "description_width": "",
      "_view_module": "@jupyter-widgets/base",
      "_model_module_version": "1.5.0",
      "_view_count": null,
      "_view_module_version": "1.2.0",
      "_model_module": "@jupyter-widgets/controls"
     }
    },
    "01389e481b43482f883d6b96ddfc347d": {
     "model_module": "@jupyter-widgets/base",
     "model_name": "LayoutModel",
     "model_module_version": "1.2.0",
     "state": {
      "_view_name": "LayoutView",
      "grid_template_rows": null,
      "right": null,
      "justify_content": null,
      "_view_module": "@jupyter-widgets/base",
      "overflow": null,
      "_model_module_version": "1.2.0",
      "_view_count": null,
      "flex_flow": null,
      "width": null,
      "min_width": null,
      "border": null,
      "align_items": null,
      "bottom": null,
      "_model_module": "@jupyter-widgets/base",
      "top": null,
      "grid_column": null,
      "overflow_y": null,
      "overflow_x": null,
      "grid_auto_flow": null,
      "grid_area": null,
      "grid_template_columns": null,
      "flex": null,
      "_model_name": "LayoutModel",
      "justify_items": null,
      "grid_row": null,
      "max_height": null,
      "align_content": null,
      "visibility": null,
      "align_self": null,
      "height": null,
      "min_height": null,
      "padding": null,
      "grid_auto_rows": null,
      "grid_gap": null,
      "max_width": null,
      "order": null,
      "_view_module_version": "1.2.0",
      "grid_template_areas": null,
      "object_position": null,
      "object_fit": null,
      "grid_auto_columns": null,
      "margin": null,
      "display": null,
      "left": null
     }
    }
   }
  }
 },
 "cells": [
  {
   "cell_type": "markdown",
   "metadata": {
    "id": "a1R1BVhCIMAz"
   },
   "source": [
    "# CSE408 빅데이터 수업\n",
    "\n",
    "세미나를 듣기전에, 그래프 기반 기계학습에 대해 한눈에 살펴보고자 합니다. \n",
    "\n"
   ]
  },
  {
   "cell_type": "markdown",
   "metadata": {
    "id": "AmdjgHGCdTNe"
   },
   "source": [
    "# Setup"
   ]
  },
  {
   "cell_type": "code",
   "metadata": {
    "id": "3uUD60Z2dRrx",
    "colab": {
     "base_uri": "https://localhost:8080/"
    },
    "outputId": "87ca6388-90a1-42f6-d9f7-3cc085a558d8"
   },
   "source": [
    "!pip install node2vec\n",
    "# lib for determining the language \n",
    "!pip install langdetect\n",
    "# lib for learning of word embeddings and text classification\n",
    "!pip install fasttext"
   ],
   "execution_count": null,
   "outputs": [
    {
     "output_type": "stream",
     "name": "stdout",
     "text": [
      "Collecting node2vec\n",
      "  Downloading node2vec-0.4.3.tar.gz (4.6 kB)\n",
      "Requirement already satisfied: networkx in /usr/local/lib/python3.7/dist-packages (from node2vec) (2.6.3)\n",
      "Requirement already satisfied: gensim in /usr/local/lib/python3.7/dist-packages (from node2vec) (3.6.0)\n",
      "Requirement already satisfied: numpy in /usr/local/lib/python3.7/dist-packages (from node2vec) (1.19.5)\n",
      "Requirement already satisfied: tqdm in /usr/local/lib/python3.7/dist-packages (from node2vec) (4.62.3)\n",
      "Requirement already satisfied: joblib>=0.13.2 in /usr/local/lib/python3.7/dist-packages (from node2vec) (1.0.1)\n",
      "Requirement already satisfied: six>=1.5.0 in /usr/local/lib/python3.7/dist-packages (from gensim->node2vec) (1.15.0)\n",
      "Requirement already satisfied: scipy>=0.18.1 in /usr/local/lib/python3.7/dist-packages (from gensim->node2vec) (1.4.1)\n",
      "Requirement already satisfied: smart-open>=1.2.1 in /usr/local/lib/python3.7/dist-packages (from gensim->node2vec) (5.2.1)\n",
      "Building wheels for collected packages: node2vec\n",
      "  Building wheel for node2vec (setup.py) ... \u001B[?25l\u001B[?25hdone\n",
      "  Created wheel for node2vec: filename=node2vec-0.4.3-py3-none-any.whl size=5978 sha256=3e1a34dad31802df528eb95cdf24276af8292498b8fe7d2a8e7146f582262aef\n",
      "  Stored in directory: /root/.cache/pip/wheels/07/62/78/5202cb8c03cbf1593b48a8a442fca8ceec2a8c80e22318bae9\n",
      "Successfully built node2vec\n",
      "Installing collected packages: node2vec\n",
      "Successfully installed node2vec-0.4.3\n",
      "Collecting langdetect\n",
      "  Downloading langdetect-1.0.9.tar.gz (981 kB)\n",
      "\u001B[K     |████████████████████████████████| 981 kB 5.2 MB/s \n",
      "\u001B[?25hRequirement already satisfied: six in /usr/local/lib/python3.7/dist-packages (from langdetect) (1.15.0)\n",
      "Building wheels for collected packages: langdetect\n",
      "  Building wheel for langdetect (setup.py) ... \u001B[?25l\u001B[?25hdone\n",
      "  Created wheel for langdetect: filename=langdetect-1.0.9-py3-none-any.whl size=993242 sha256=3457dc8bf553d0c45c9fe2327f6859624efddc950d91308ef05d97e811fbddc7\n",
      "  Stored in directory: /root/.cache/pip/wheels/c5/96/8a/f90c59ed25d75e50a8c10a1b1c2d4c402e4dacfa87f3aff36a\n",
      "Successfully built langdetect\n",
      "Installing collected packages: langdetect\n",
      "Successfully installed langdetect-1.0.9\n",
      "Collecting fasttext\n",
      "  Downloading fasttext-0.9.2.tar.gz (68 kB)\n",
      "\u001B[K     |████████████████████████████████| 68 kB 3.5 MB/s \n",
      "\u001B[?25hCollecting pybind11>=2.2\n",
      "  Using cached pybind11-2.8.0-py2.py3-none-any.whl (207 kB)\n",
      "Requirement already satisfied: setuptools>=0.7.0 in /usr/local/lib/python3.7/dist-packages (from fasttext) (57.4.0)\n",
      "Requirement already satisfied: numpy in /usr/local/lib/python3.7/dist-packages (from fasttext) (1.19.5)\n",
      "Building wheels for collected packages: fasttext\n",
      "  Building wheel for fasttext (setup.py) ... \u001B[?25l\u001B[?25hdone\n",
      "  Created wheel for fasttext: filename=fasttext-0.9.2-cp37-cp37m-linux_x86_64.whl size=3119454 sha256=1c37efbeebb7c847e58231ac7963494505a199ae0518d64f088686be26488779\n",
      "  Stored in directory: /root/.cache/pip/wheels/4e/ca/bf/b020d2be95f7641801a6597a29c8f4f19e38f9c02a345bab9b\n",
      "Successfully built fasttext\n",
      "Installing collected packages: pybind11, fasttext\n",
      "Successfully installed fasttext-0.9.2 pybind11-2.8.0\n"
     ]
    }
   ]
  },
  {
   "cell_type": "code",
   "metadata": {
    "id": "qahGf92ndWKd"
   },
   "source": [
    "# library for creating and representing graphs \n",
    "import networkx as nx\n",
    "\n",
    "from node2vec import Node2Vec\n",
    "import matplotlib.pyplot as plt\n",
    "\n",
    "import pandas as pd\n",
    "\n",
    "# an open-source software library for advanced natural language processing\n",
    "import spacy\n",
    "\n",
    "# show progress bar when processing Iterator\n",
    "from tqdm.notebook import tqdm\n",
    "tqdm.pandas()"
   ],
   "execution_count": null,
   "outputs": []
  },
  {
   "cell_type": "markdown",
   "metadata": {
    "id": "VEF7wek3VTNO"
   },
   "source": [
    "# Type of Graph (그래프의 유형)\n",
    "- complete graph\n",
    "- small-world graph\n"
   ]
  },
  {
   "cell_type": "code",
   "metadata": {
    "id": "A96MdF0wUIm-"
   },
   "source": [
    "complete = nx.complete_graph(n=10)"
   ],
   "execution_count": null,
   "outputs": []
  },
  {
   "cell_type": "code",
   "metadata": {
    "colab": {
     "base_uri": "https://localhost:8080/",
     "height": 248
    },
    "id": "whFHpuQLUNLD",
    "outputId": "bee8317f-dc53-46e1-de4f-fe501e95c62e"
   },
   "source": [
    "nx.draw_networkx(complete)"
   ],
   "execution_count": null,
   "outputs": [
    {
     "output_type": "display_data",
     "data": {
      "image/png": "[encoded data removed]",
      "text/plain": [
       "<Figure size 432x288 with 1 Axes>"
      ]
     },
     "metadata": {}
    }
   ]
  },
  {
   "cell_type": "code",
   "metadata": {
    "id": "EpLs6e1OUzMs"
   },
   "source": [
    "small_world = nx.watts_strogatz_graph(n=10, k=5, p=0.2)"
   ],
   "execution_count": null,
   "outputs": []
  },
  {
   "cell_type": "code",
   "metadata": {
    "colab": {
     "base_uri": "https://localhost:8080/",
     "height": 248
    },
    "id": "TH716ZADU7Rf",
    "outputId": "dc2820d7-618a-4f7c-835c-c4faf7882aac"
   },
   "source": [
    "nx.draw_networkx(small_world)"
   ],
   "execution_count": null,
   "outputs": [
    {
     "output_type": "display_data",
     "data": {
      "image/png": "[encoded data removed]",
      "text/plain": [
       "<Figure size 432x288 with 1 Axes>"
      ]
     },
     "metadata": {}
    }
   ]
  },
  {
   "cell_type": "markdown",
   "metadata": {
    "id": "GhmWWl8aDXX1"
   },
   "source": [
    "# Graph metrics(그래프 측정지표)\n",
    "- Shortest path(최단거리)\n",
    "- Efficiency(네트워크 효율성)\n",
    "- Clustering coefficient(결집계수)\n",
    "- Centrality(네트워크 중심성)"
   ]
  },
  {
   "cell_type": "code",
   "metadata": {
    "id": "r1ElmRg1DO1S"
   },
   "source": [
    "# draw a simple graph\n",
    "def draw_graph(G, node_names={}, filename=None, node_size=50):\n",
    "    pos_nodes = nx.spring_layout(G)\n",
    "    nx.draw(G, pos_nodes, with_labels=False, node_size=node_size, edge_color='gray')\n",
    "    \n",
    "    pos_attrs = {}\n",
    "    for node, coords in pos_nodes.items():\n",
    "        pos_attrs[node] = (coords[0], coords[1] + 0.08)\n",
    "        \n",
    "    nx.draw_networkx_labels(G, pos_attrs, labels=node_names, font_family='serif')\n",
    "    \n",
    "    plt.axis('off')\n",
    "    axis = plt.gca()\n",
    "    axis.set_xlim([1.2*x for x in axis.get_xlim()])\n",
    "    axis.set_ylim([1.2*y for y in axis.get_ylim()])\n",
    "    \n",
    "    if filename:\n",
    "        plt.savefig(filename, format=\"png\")\n",
    "\n",
    "\n",
    "# draw enhanced path on the graph\n",
    "def draw_enhanced_path(G, path_to_enhance, node_names={}, filename=None):\n",
    "    path_edges = list(zip(path,path[1:]))\n",
    "    pos_nodes = nx.spring_layout(G)\n",
    "\n",
    "    plt.figure(figsize=(12,6),dpi=300)\n",
    "    pos_nodes = nx.spring_layout(G)\n",
    "    nx.draw(G, pos_nodes, with_labels=False, node_size=50, edge_color='gray')\n",
    "    \n",
    "    pos_attrs = {}\n",
    "    for node, coords in pos_nodes.items():\n",
    "        pos_attrs[node] = (coords[0], coords[1] + 0.08)\n",
    "        \n",
    "    nx.draw_networkx_labels(G, pos_attrs, labels=node_names, font_family='serif')\n",
    "    nx.draw_networkx_edges(G,pos_nodes,edgelist=path_edges, edge_color='#cc2f04', style='dashed', width=2.0)\n",
    "    \n",
    "    plt.axis('off')\n",
    "    axis = plt.gca()\n",
    "    axis.set_xlim([1.2*x for x in axis.get_xlim()])\n",
    "    axis.set_ylim([1.2*y for y in axis.get_ylim()])\n",
    "    \n",
    "    if filename:\n",
    "        plt.savefig(filename, format=\"png\")"
   ],
   "execution_count": null,
   "outputs": []
  },
  {
   "cell_type": "code",
   "metadata": {
    "colab": {
     "base_uri": "https://localhost:8080/",
     "height": 319
    },
    "id": "lENseQVGDhhz",
    "outputId": "032a04da-3f43-4177-a7c9-8b16da63e3f4"
   },
   "source": [
    "G = nx.Graph()\n",
    "nodes = {1:'Dublin',2:'Paris',3:'Milan',4:'Rome',5:'Naples',6:'Moscow',7:'Tokyo'}\n",
    "G.add_nodes_from(nodes.keys())\n",
    "G.add_edges_from([(1,2),(1,3),(2,3),(3,4),(4,5),(5,6),(6,7),(7,5)])\n",
    "draw_graph(G)"
   ],
   "execution_count": null,
   "outputs": [
    {
     "output_type": "display_data",
     "data": {
      "image/png": "[encoded data removed]",
      "text/plain": [
       "<Figure size 432x288 with 1 Axes>"
      ]
     },
     "metadata": {}
    }
   ]
  },
  {
   "cell_type": "markdown",
   "metadata": {
    "id": "KpvfB5fYDjHg"
   },
   "source": [
    "## Shortest path"
   ]
  },
  {
   "cell_type": "code",
   "metadata": {
    "colab": {
     "base_uri": "https://localhost:8080/"
    },
    "id": "cn6wDqTgDoAU",
    "outputId": "1dab2766-193d-4c93-d60d-e1087d1e9ae5"
   },
   "source": [
    "path = nx.shortest_path(G,source=1,target=7)\n",
    "print(path)"
   ],
   "execution_count": null,
   "outputs": [
    {
     "output_type": "stream",
     "name": "stdout",
     "text": [
      "[1, 3, 4, 5, 7]\n"
     ]
    }
   ]
  },
  {
   "cell_type": "code",
   "metadata": {
    "colab": {
     "base_uri": "https://localhost:8080/",
     "height": 582
    },
    "id": "zHGQPUOCDq7f",
    "outputId": "2be4dc52-8076-48b2-fafc-2548ae07c5ed"
   },
   "source": [
    "draw_enhanced_path(G, path, node_names=nodes ,filename='shortest_path.png')"
   ],
   "execution_count": null,
   "outputs": [
    {
     "output_type": "display_data",
     "data": {
      "image/png": "[encoded data removed]",
      "text/plain": [
       "<Figure size 3600x1800 with 1 Axes>"
      ]
     },
     "metadata": {}
    }
   ]
  },
  {
   "cell_type": "code",
   "metadata": {
    "colab": {
     "base_uri": "https://localhost:8080/"
    },
    "id": "AG8Po-EJEIEw",
    "outputId": "c1f11c96-eb53-4495-a4fe-5d6f3193de47"
   },
   "source": [
    "nx.average_shortest_path_length(G)"
   ],
   "execution_count": null,
   "outputs": [
    {
     "output_type": "execute_result",
     "data": {
      "text/plain": [
       "2.1904761904761907"
      ]
     },
     "metadata": {},
     "execution_count": 11
    }
   ]
  },
  {
   "cell_type": "markdown",
   "metadata": {
    "id": "fGmBOS-gETSr"
   },
   "source": [
    "## Efficiency\n",
    "![image.png](data:image/png;base64,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)\n"
   ]
  },
  {
   "cell_type": "code",
   "metadata": {
    "colab": {
     "base_uri": "https://localhost:8080/"
    },
    "id": "Np-c7M_SEWF9",
    "outputId": "ded88ba5-1724-4989-ca45-d8e1c3685c46"
   },
   "source": [
    "G = nx.Graph()\n",
    "nodes = {1:'Dublin',2:'Paris',3:'Milan',4:'Rome',5:'Naples',6:'Moscow',7:'Tokyo'}\n",
    "G.add_nodes_from(nodes.keys())\n",
    "G.add_edges_from([(1,2),(1,3),(2,3),(3,4),(4,5),(5,6),(6,7),(7,5)])\n",
    "\n",
    "print(nx.global_efficiency(G))\n",
    "print(nx.local_efficiency(G))"
   ],
   "execution_count": null,
   "outputs": [
    {
     "output_type": "stream",
     "name": "stdout",
     "text": [
      "0.611111111111111\n",
      "0.6666666666666667\n"
     ]
    }
   ]
  },
  {
   "cell_type": "code",
   "metadata": {
    "colab": {
     "base_uri": "https://localhost:8080/",
     "height": 248
    },
    "id": "3urzQmD9EY00",
    "outputId": "25b5e893-d4ad-42db-d138-e2dd52616bf9"
   },
   "source": [
    "# higher efficiency\n",
    "G = nx.complete_graph(n=7)\n",
    "nodes = {0:'Dublin',1:'Paris',2:'Milan',3:'Rome',4:'Naples',5:'Moscow',6:'Tokyo'}\n",
    "\n",
    "ge = round(nx.global_efficiency(G),2)\n",
    "\n",
    "# place the text box in axes coords\n",
    "ax = plt.gca()\n",
    "ax.text(-.4, -1.3, \"Global Efficiency:{}\".format(ge), fontsize=14, ha='left', va='bottom');\n",
    "\n",
    "draw_graph(G,node_names=nodes,filename='efficiency.png')"
   ],
   "execution_count": null,
   "outputs": [
    {
     "output_type": "display_data",
     "data": {
      "image/png": "[encoded data removed]",
      "text/plain": [
       "<Figure size 432x288 with 1 Axes>"
      ]
     },
     "metadata": {}
    }
   ]
  },
  {
   "cell_type": "markdown",
   "metadata": {
    "id": "lQdOgr-mEbNf"
   },
   "source": [
    "## Clustering coefficient\n",
    "\n",
    "![image.png](data:image/png;base64,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)"
   ]
  },
  {
   "cell_type": "code",
   "metadata": {
    "colab": {
     "base_uri": "https://localhost:8080/"
    },
    "id": "EeeznDnMCtQi",
    "outputId": "5a14844f-d464-4e4b-8bc3-a4dfb9caa54e"
   },
   "source": [
    "# Clustering coefficient\n",
    "nx.average_clustering(small_world)"
   ],
   "execution_count": null,
   "outputs": [
    {
     "output_type": "execute_result",
     "data": {
      "text/plain": [
       "0.5"
      ]
     },
     "metadata": {},
     "execution_count": 14
    }
   ]
  },
  {
   "cell_type": "code",
   "metadata": {
    "colab": {
     "base_uri": "https://localhost:8080/",
     "height": 319
    },
    "id": "sqR9mTNfEhMw",
    "outputId": "7215eb6b-7b67-40a1-8466-6f63695bd238"
   },
   "source": [
    "cc = nx.clustering(G)\n",
    "print(cc)\n",
    "node_size=[(v + 0.1) * 200 for v in cc.values()]\n",
    "draw_graph(G, node_names=nodes, node_size=node_size,filename='clustering.png')"
   ],
   "execution_count": null,
   "outputs": [
    {
     "output_type": "display_data",
     "data": {
      "image/png": "[encoded data removed]",
      "text/plain": [
       "<Figure size 432x288 with 1 Axes>"
      ]
     },
     "metadata": {}
    }
   ]
  },
  {
   "cell_type": "markdown",
   "metadata": {
    "id": "aeoAiDagElrR"
   },
   "source": [
    "## Centrality\n",
    " - **degree_centrality**\n",
    " - betwness_centrality\n",
    " - closeness_centrality"
   ]
  },
  {
   "cell_type": "code",
   "metadata": {
    "colab": {
     "base_uri": "https://localhost:8080/"
    },
    "id": "Bdy_cMC3DA7X",
    "outputId": "1b123b32-f767-469d-c91a-3e7597d5388a"
   },
   "source": [
    "# Degree centrality\n",
    "nx.degree_centrality(small_world)"
   ],
   "execution_count": null,
   "outputs": [
    {
     "output_type": "execute_result",
     "data": {
      "text/plain": [
       "{0: 0.5555555555555556,\n",
       " 1: 0.6666666666666666,\n",
       " 2: 0.5555555555555556,\n",
       " 3: 0.3333333333333333,\n",
       " 4: 0.4444444444444444,\n",
       " 5: 0.4444444444444444,\n",
       " 6: 0.5555555555555556,\n",
       " 7: 0.3333333333333333,\n",
       " 8: 0.3333333333333333,\n",
       " 9: 0.2222222222222222}"
      ]
     },
     "metadata": {},
     "execution_count": 16
    }
   ]
  },
  {
   "cell_type": "code",
   "metadata": {
    "colab": {
     "base_uri": "https://localhost:8080/",
     "height": 382
    },
    "id": "aZJf4eunEpLj",
    "outputId": "4ddd2562-0550-4999-d30f-c68160f5b320"
   },
   "source": [
    "dc = nx.degree_centrality(G)\n",
    "node_size=[(v + 0.01) * 400 for v in dc.values()]\n",
    "draw_graph(G, node_names=nodes, node_size=node_size,filename='deg_centr.png')\n",
    "\n",
    "df = pd.DataFrame(dc,index=['Degree centrality'])\n",
    "df.columns = nodes.values()\n",
    "df"
   ],
   "execution_count": null,
   "outputs": [
    {
     "output_type": "execute_result",
     "data": {
      "text/html": [
       "<div>\n",
       "<style scoped>\n",
       "    .dataframe tbody tr th:only-of-type {\n",
       "        vertical-align: middle;\n",
       "    }\n",
       "\n",
       "    .dataframe tbody tr th {\n",
       "        vertical-align: top;\n",
       "    }\n",
       "\n",
       "    .dataframe thead th {\n",
       "        text-align: right;\n",
       "    }\n",
       "</style>\n",
       "<table border=\"1\" class=\"dataframe\">\n",
       "  <thead>\n",
       "    <tr style=\"text-align: right;\">\n",
       "      <th></th>\n",
       "      <th>Dublin</th>\n",
       "      <th>Paris</th>\n",
       "      <th>Milan</th>\n",
       "      <th>Rome</th>\n",
       "      <th>Naples</th>\n",
       "      <th>Moscow</th>\n",
       "      <th>Tokyo</th>\n",
       "    </tr>\n",
       "  </thead>\n",
       "  <tbody>\n",
       "    <tr>\n",
       "      <th>Degree centrality</th>\n",
       "      <td>1.0</td>\n",
       "      <td>1.0</td>\n",
       "      <td>1.0</td>\n",
       "      <td>1.0</td>\n",
       "      <td>1.0</td>\n",
       "      <td>1.0</td>\n",
       "      <td>1.0</td>\n",
       "    </tr>\n",
       "  </tbody>\n",
       "</table>\n",
       "</div>"
      ],
      "text/plain": [
       "                   Dublin  Paris  Milan  Rome  Naples  Moscow  Tokyo\n",
       "Degree centrality     1.0    1.0    1.0   1.0     1.0     1.0    1.0"
      ]
     },
     "metadata": {},
     "execution_count": 17
    },
    {
     "output_type": "display_data",
     "data": {
      "image/png": "[encoded data removed]",
      "text/plain": [
       "<Figure size 432x288 with 1 Axes>"
      ]
     },
     "metadata": {}
    }
   ]
  },
  {
   "cell_type": "markdown",
   "metadata": {
    "id": "4o0oES2Q-Vhc"
   },
   "source": [
    "# Graph Embedding(그래프 임베딩)\n",
    "- Node2Vec"
   ]
  },
  {
   "cell_type": "code",
   "metadata": {
    "id": "Q8hXr1pNWUsb"
   },
   "source": [
    "G = nx.barbell_graph(m1=7, m2=4)"
   ],
   "execution_count": null,
   "outputs": []
  },
  {
   "cell_type": "code",
   "metadata": {
    "colab": {
     "base_uri": "https://localhost:8080/",
     "height": 248
    },
    "id": "4KYvGZb7WZWi",
    "outputId": "a911fe4e-373c-47a4-85d4-108829d7acd1"
   },
   "source": [
    "nx.draw_networkx(G)"
   ],
   "execution_count": null,
   "outputs": [
    {
     "output_type": "display_data",
     "data": {
      "image/png": "[encoded data removed]",
      "text/plain": [
       "<Figure size 432x288 with 1 Axes>"
      ]
     },
     "metadata": {}
    }
   ]
  },
  {
   "cell_type": "code",
   "metadata": {
    "colab": {
     "base_uri": "https://localhost:8080/",
     "height": 66,
     "referenced_widgets": [
      "ef28e97f14974c9bb586983a488002f8",
      "94d3d0a64cb3462aa1930250991fb3f1",
      "abadb4f2d0614c44a06fce0ff5283c74",
      "b1ee7f20d0444d7ab4b504318ba7ff31",
      "a47f1b078dcd4925936e0c296d8b50f6",
      "268c5d30b1324610a92d6d084d433c28",
      "a2f88d4658f047c78891d2f123617db5",
      "c25cbc7a84914a5f8a441d2e5315613b",
      "6c46c5660be6464085720fdb081e5a40",
      "aebd52c944764d918f7f58f2b0a83434",
      "b191ebf3e33f438d98616f5eca64ac79"
     ]
    },
    "id": "OKYJW0zEWx52",
    "outputId": "736f45c1-7ef3-441f-ed92-c20c540374c9"
   },
   "source": [
    "node2vec = Node2Vec(G, dimensions=2) # 임베딩 알고리즘을 통해 2차원 벡터 생성\n",
    "model = node2vec.fit(window=10)"
   ],
   "execution_count": null,
   "outputs": [
    {
     "output_type": "display_data",
     "data": {
      "application/vnd.jupyter.widget-view+json": {
       "model_id": "ef28e97f14974c9bb586983a488002f8",
       "version_minor": 0,
       "version_major": 2
      },
      "text/plain": [
       "Computing transition probabilities:   0%|          | 0/18 [00:00<?, ?it/s]"
      ]
     },
     "metadata": {}
    },
    {
     "output_type": "stream",
     "name": "stderr",
     "text": [
      "Generating walks (CPU: 1): 100%|██████████| 10/10 [00:00<00:00, 16.05it/s]\n"
     ]
    }
   ]
  },
  {
   "cell_type": "code",
   "metadata": {
    "colab": {
     "base_uri": "https://localhost:8080/",
     "height": 265
    },
    "id": "O4758GF3XGmN",
    "outputId": "0323af52-a1a2-4d4b-d18a-03e65e442631"
   },
   "source": [
    "fig, ax = plt.subplots()\n",
    "for x in G.nodes():\n",
    "  v = model.wv.get_vector(str(x))\n",
    "  ax.scatter(v[0], v[1], s=1000)\n",
    "  ax.annotate(str(x), (v[0], v[1]), fontsize=12)"
   ],
   "execution_count": null,
   "outputs": [
    {
     "output_type": "display_data",
     "data": {
      "image/png": "[encoded data removed]",
      "text/plain": [
       "<Figure size 432x288 with 1 Axes>"
      ]
     },
     "metadata": {
      "needs_background": "light"
     }
    }
   ]
  },
  {
   "cell_type": "code",
   "metadata": {
    "colab": {
     "base_uri": "https://localhost:8080/",
     "height": 265
    },
    "id": "BhPb6_5WXeFH",
    "outputId": "884290c3-6367-4395-d5e2-e4ad3daa2c38"
   },
   "source": [
    "from node2vec.edges import HadamardEmbedder\n",
    "\n",
    "# Node2Vec 알고리즘의 결과에 HadamardEmbedder 알고리즘을 적용\n",
    "# 그래프 엣지를 이차원 벡터에 매핑시키 위해\n",
    "edges_embs = HadamardEmbedder(keyed_vectors=model.wv) \n",
    "fig, ax = plt.subplots()\n",
    "for x in G.edges():\n",
    "  v = edges_embs[(str(x[0]), str(x[1]))]\n",
    "  ax.scatter(v[0], v[1], s=1000)\n",
    "  ax.annotate(str(x), (v[0], v[1]), fontsize=12)"
   ],
   "execution_count": null,
   "outputs": [
    {
     "output_type": "display_data",
     "data": {
      "image/png": "[encoded data removed]",
      "text/plain": [
       "<Figure size 432x288 with 1 Axes>"
      ]
     },
     "metadata": {
      "needs_background": "light"
     }
    }
   ]
  },
  {
   "cell_type": "code",
   "metadata": {
    "colab": {
     "base_uri": "https://localhost:8080/"
    },
    "id": "G6_rP4Wlda8m",
    "outputId": "1aab414d-7fc7-478a-f244-dae74454f2f6"
   },
   "source": [
    "edges_embs[('1', '2')]"
   ],
   "execution_count": null,
   "outputs": [
    {
     "output_type": "execute_result",
     "data": {
      "text/plain": [
       "array([0.11963184, 3.325     ], dtype=float32)"
      ]
     },
     "metadata": {},
     "execution_count": 62
    }
   ]
  },
  {
   "cell_type": "code",
   "metadata": {
    "id": "KGN-jDAhduPE",
    "colab": {
     "base_uri": "https://localhost:8080/"
    },
    "outputId": "27478d29-420c-4642-bcac-e7eec071b26b"
   },
   "source": [
    "edges_kv = edges_embs.as_keyed_vectors()\n",
    "edges_kv.most_similar(str(('1', '2')))"
   ],
   "execution_count": null,
   "outputs": [
    {
     "output_type": "stream",
     "name": "stderr",
     "text": [
      "Generating edge features: 100%|██████████| 171/171.0 [00:00<00:00, 68844.88it/s]\n"
     ]
    },
    {
     "output_type": "execute_result",
     "data": {
      "text/plain": [
       "[(\"('6', '6')\", 0.9999999403953552),\n",
       " (\"('0', '2')\", 0.9999999403953552),\n",
       " (\"('2', '3')\", 0.9999977350234985),\n",
       " (\"('2', '5')\", 0.999997615814209),\n",
       " (\"('0', '6')\", 0.9999974370002747),\n",
       " (\"('1', '6')\", 0.9999966621398926),\n",
       " (\"('2', '6')\", 0.9999966025352478),\n",
       " (\"('2', '4')\", 0.9999961256980896),\n",
       " (\"('0', '0')\", 0.9999911189079285),\n",
       " (\"('0', '1')\", 0.9999896883964539)]"
      ]
     },
     "metadata": {},
     "execution_count": 63
    }
   ]
  },
  {
   "cell_type": "markdown",
   "metadata": {
    "id": "1AK4kLmA-dJm"
   },
   "source": [
    "# Dataset Import (데이터 임포트)\n",
    "- reuters (benchmark dataset)\n",
    "- 21578 news articles, 1987 financial Reuters newswire, "
   ]
  },
  {
   "cell_type": "code",
   "metadata": {
    "id": "7koOuFTqx8qr"
   },
   "source": [
    "from nltk.corpus import reuters\n",
    "import nltk\n",
    "nltk.download(\"reuters\")\n",
    "!unzip /root/nltk_data/corpora/reuters.zip -d /root/nltk_data/corpora"
   ],
   "execution_count": null,
   "outputs": []
  },
  {
   "cell_type": "code",
   "metadata": {
    "id": "39IYjKRBZUR_"
   },
   "source": [
    "corpus = pd.DataFrame([\n",
    "    {\"id\": _id, \"clean_text\": reuters.raw(_id).replace(\"\\n\", \"\"), \"label\": reuters.categories(_id)}\n",
    "    for _id in reuters.fileids()\n",
    "]).set_index(\"id\")\n"
   ],
   "execution_count": null,
   "outputs": []
  },
  {
   "cell_type": "code",
   "metadata": {
    "colab": {
     "base_uri": "https://localhost:8080/",
     "height": 447
    },
    "id": "LWJmGANT1pKT",
    "outputId": "0d5f875e-4575-4289-fe06-a85446c48b54"
   },
   "source": [
    "corpus"
   ],
   "execution_count": null,
   "outputs": [
    {
     "output_type": "execute_result",
     "data": {
      "text/html": [
       "<div>\n",
       "<style scoped>\n",
       "    .dataframe tbody tr th:only-of-type {\n",
       "        vertical-align: middle;\n",
       "    }\n",
       "\n",
       "    .dataframe tbody tr th {\n",
       "        vertical-align: top;\n",
       "    }\n",
       "\n",
       "    .dataframe thead th {\n",
       "        text-align: right;\n",
       "    }\n",
       "</style>\n",
       "<table border=\"1\" class=\"dataframe\">\n",
       "  <thead>\n",
       "    <tr style=\"text-align: right;\">\n",
       "      <th></th>\n",
       "      <th>clean_text</th>\n",
       "      <th>label</th>\n",
       "    </tr>\n",
       "    <tr>\n",
       "      <th>id</th>\n",
       "      <th></th>\n",
       "      <th></th>\n",
       "    </tr>\n",
       "  </thead>\n",
       "  <tbody>\n",
       "    <tr>\n",
       "      <th>test/14826</th>\n",
       "      <td>ASIAN EXPORTERS FEAR DAMAGE FROM U.S.-JAPAN RI...</td>\n",
       "      <td>[trade]</td>\n",
       "    </tr>\n",
       "    <tr>\n",
       "      <th>test/14828</th>\n",
       "      <td>CHINA DAILY SAYS VERMIN EAT 7-12 PCT GRAIN STO...</td>\n",
       "      <td>[grain]</td>\n",
       "    </tr>\n",
       "    <tr>\n",
       "      <th>test/14829</th>\n",
       "      <td>JAPAN TO REVISE LONG-TERM ENERGY DEMAND DOWNWA...</td>\n",
       "      <td>[crude, nat-gas]</td>\n",
       "    </tr>\n",
       "    <tr>\n",
       "      <th>test/14832</th>\n",
       "      <td>THAI TRADE DEFICIT WIDENS IN FIRST QUARTER  Th...</td>\n",
       "      <td>[corn, grain, rice, rubber, sugar, tin, trade]</td>\n",
       "    </tr>\n",
       "    <tr>\n",
       "      <th>test/14833</th>\n",
       "      <td>INDONESIA SEES CPO PRICE RISING SHARPLY  Indon...</td>\n",
       "      <td>[palm-oil, veg-oil]</td>\n",
       "    </tr>\n",
       "    <tr>\n",
       "      <th>...</th>\n",
       "      <td>...</td>\n",
       "      <td>...</td>\n",
       "    </tr>\n",
       "    <tr>\n",
       "      <th>training/999</th>\n",
       "      <td>U.K. MONEY MARKET SHORTAGE FORECAST REVISED DO...</td>\n",
       "      <td>[interest, money-fx]</td>\n",
       "    </tr>\n",
       "    <tr>\n",
       "      <th>training/9992</th>\n",
       "      <td>KNIGHT-RIDDER INC &amp;lt;KRN&gt; SETS QUARTERLY  Qtl...</td>\n",
       "      <td>[earn]</td>\n",
       "    </tr>\n",
       "    <tr>\n",
       "      <th>training/9993</th>\n",
       "      <td>TECHNITROL INC &amp;lt;TNL&gt; SETS QUARTERLY  Qtly d...</td>\n",
       "      <td>[earn]</td>\n",
       "    </tr>\n",
       "    <tr>\n",
       "      <th>training/9994</th>\n",
       "      <td>NATIONWIDE CELLULAR SERVICE INC &amp;lt;NCEL&gt; 4TH ...</td>\n",
       "      <td>[earn]</td>\n",
       "    </tr>\n",
       "    <tr>\n",
       "      <th>training/9995</th>\n",
       "      <td>&amp;lt;A.H.A. AUTOMOTIVE TECHNOLOGIES CORP&gt; YEAR ...</td>\n",
       "      <td>[earn]</td>\n",
       "    </tr>\n",
       "  </tbody>\n",
       "</table>\n",
       "<p>10788 rows × 2 columns</p>\n",
       "</div>"
      ],
      "text/plain": [
       "                                                      clean_text                                           label\n",
       "id                                                                                                              \n",
       "test/14826     ASIAN EXPORTERS FEAR DAMAGE FROM U.S.-JAPAN RI...                                         [trade]\n",
       "test/14828     CHINA DAILY SAYS VERMIN EAT 7-12 PCT GRAIN STO...                                         [grain]\n",
       "test/14829     JAPAN TO REVISE LONG-TERM ENERGY DEMAND DOWNWA...                                [crude, nat-gas]\n",
       "test/14832     THAI TRADE DEFICIT WIDENS IN FIRST QUARTER  Th...  [corn, grain, rice, rubber, sugar, tin, trade]\n",
       "test/14833     INDONESIA SEES CPO PRICE RISING SHARPLY  Indon...                             [palm-oil, veg-oil]\n",
       "...                                                          ...                                             ...\n",
       "training/999   U.K. MONEY MARKET SHORTAGE FORECAST REVISED DO...                            [interest, money-fx]\n",
       "training/9992  KNIGHT-RIDDER INC &lt;KRN> SETS QUARTERLY  Qtl...                                          [earn]\n",
       "training/9993  TECHNITROL INC &lt;TNL> SETS QUARTERLY  Qtly d...                                          [earn]\n",
       "training/9994  NATIONWIDE CELLULAR SERVICE INC &lt;NCEL> 4TH ...                                          [earn]\n",
       "training/9995  &lt;A.H.A. AUTOMOTIVE TECHNOLOGIES CORP> YEAR ...                                          [earn]\n",
       "\n",
       "[10788 rows x 2 columns]"
      ]
     },
     "metadata": {},
     "execution_count": 25
    }
   ]
  },
  {
   "cell_type": "code",
   "metadata": {
    "colab": {
     "base_uri": "https://localhost:8080/",
     "height": 106
    },
    "id": "pSZ5YtO31xrJ",
    "outputId": "3a6f352c-5d62-4f9d-f670-4f926ae7ba46"
   },
   "source": [
    "corpus.iloc[10][\"clean_text\"]"
   ],
   "execution_count": null,
   "outputs": [
    {
     "output_type": "execute_result",
     "data": {
      "application/vnd.google.colaboratory.intrinsic+json": {
       "type": "string"
      },
      "text/plain": [
       "'SUBROTO SAYS INDONESIA SUPPORTS TIN PACT EXTENSION  Mines and Energy Minister Subroto  confirmed Indonesian support for an extension of the sixth  International Tin Agreement (ITA), but said a new pact was not  necessary.      Asked by Reuters to clarify his statement on Monday in  which he said the pact should be allowed to lapse, Subroto said  Indonesia was ready to back extension of the ITA.      \"We can support extension of the sixth agreement,\" he said.  \"But a seventh accord we believe to be unnecessary.\"      The sixth ITA will expire at the end of June unless a  two-thirds majority of members vote for an extension.  '"
      ]
     },
     "metadata": {},
     "execution_count": 26
    }
   ]
  },
  {
   "cell_type": "code",
   "metadata": {
    "colab": {
     "base_uri": "https://localhost:8080/"
    },
    "id": "qjUMDOU312nz",
    "outputId": "6180e4a5-7831-454d-c06a-59ce748eeb6e"
   },
   "source": [
    "from collections import Counter\n",
    "len(Counter([label for document_labels in corpus[\"label\"] for label in document_labels]).most_common())"
   ],
   "execution_count": null,
   "outputs": [
    {
     "output_type": "execute_result",
     "data": {
      "text/plain": [
       "90"
      ]
     },
     "metadata": {},
     "execution_count": 27
    }
   ]
  },
  {
   "cell_type": "code",
   "metadata": {
    "id": "RZQX3DqU19ya"
   },
   "source": [
    "# determine language\n",
    "import langdetect"
   ],
   "execution_count": null,
   "outputs": []
  },
  {
   "cell_type": "code",
   "metadata": {
    "id": "nKdEor1C1_N0"
   },
   "source": [
    "import numpy as np\n",
    "\n",
    "def getLanguage(text: str):\n",
    "    try:\n",
    "        return langdetect.detect(text)\n",
    "    except: \n",
    "        return np.nan"
   ],
   "execution_count": null,
   "outputs": []
  },
  {
   "cell_type": "code",
   "metadata": {
    "id": "7zsgQ4Ow2Am6",
    "colab": {
     "base_uri": "https://localhost:8080/",
     "height": 49,
     "referenced_widgets": [
      "3fb4a5a537f64323992a00ea84f14b13",
      "677d73601fc84d3ab51afc2b5ba45b70",
      "273cfb2e21d34caab2499767f8bd62f8",
      "34e071b8d4704ea29f2aa1fbf80465e1",
      "e1c7163cc32b4dcba6d0dac2b951e11f",
      "23367beb24404d458df5ecf753354102",
      "796c541728f645f489dcb532867741d0",
      "6133da44c30942a69846005470103cb4",
      "3df3f2089bda48e19b843b0ce2b24ed8",
      "8f48687bc9424b57891d351972f24db5",
      "8f966157fd7049cc88194029a692c51b"
     ]
    },
    "outputId": "80ee0020-32d6-4022-c4d2-8beca80ca5af"
   },
   "source": [
    "corpus[\"language\"] = corpus[\"clean_text\"].progress_apply(getLanguage)"
   ],
   "execution_count": null,
   "outputs": [
    {
     "output_type": "display_data",
     "data": {
      "application/vnd.jupyter.widget-view+json": {
       "model_id": "3fb4a5a537f64323992a00ea84f14b13",
       "version_minor": 0,
       "version_major": 2
      },
      "text/plain": [
       "  0%|          | 0/10788 [00:00<?, ?it/s]"
      ]
     },
     "metadata": {}
    }
   ]
  },
  {
   "cell_type": "code",
   "metadata": {
    "colab": {
     "base_uri": "https://localhost:8080/"
    },
    "id": "_1Ezke6j2CNV",
    "outputId": "b7e44cd4-f3e9-4ef2-d31a-e99ab27deed6"
   },
   "source": [
    "corpus[\"language\"].value_counts().head(10)"
   ],
   "execution_count": null,
   "outputs": [
    {
     "output_type": "execute_result",
     "data": {
      "text/plain": [
       "en    9898\n",
       "sv     429\n",
       "de     374\n",
       "sw      29\n",
       "so      22\n",
       "nl       8\n",
       "pt       7\n",
       "vi       6\n",
       "et       3\n",
       "ca       2\n",
       "Name: language, dtype: int64"
      ]
     },
     "metadata": {},
     "execution_count": 31
    }
   ]
  },
  {
   "cell_type": "code",
   "metadata": {
    "colab": {
     "base_uri": "https://localhost:8080/",
     "height": 234
    },
    "id": "F0EJsKcD2EZy",
    "outputId": "b1b1ac0a-fdbe-4897-a556-00ecc276ee3f"
   },
   "source": [
    "corpus.head()"
   ],
   "execution_count": null,
   "outputs": [
    {
     "output_type": "execute_result",
     "data": {
      "text/html": [
       "<div>\n",
       "<style scoped>\n",
       "    .dataframe tbody tr th:only-of-type {\n",
       "        vertical-align: middle;\n",
       "    }\n",
       "\n",
       "    .dataframe tbody tr th {\n",
       "        vertical-align: top;\n",
       "    }\n",
       "\n",
       "    .dataframe thead th {\n",
       "        text-align: right;\n",
       "    }\n",
       "</style>\n",
       "<table border=\"1\" class=\"dataframe\">\n",
       "  <thead>\n",
       "    <tr style=\"text-align: right;\">\n",
       "      <th></th>\n",
       "      <th>clean_text</th>\n",
       "      <th>label</th>\n",
       "      <th>language</th>\n",
       "    </tr>\n",
       "    <tr>\n",
       "      <th>id</th>\n",
       "      <th></th>\n",
       "      <th></th>\n",
       "      <th></th>\n",
       "    </tr>\n",
       "  </thead>\n",
       "  <tbody>\n",
       "    <tr>\n",
       "      <th>test/14826</th>\n",
       "      <td>ASIAN EXPORTERS FEAR DAMAGE FROM U.S.-JAPAN RI...</td>\n",
       "      <td>[trade]</td>\n",
       "      <td>en</td>\n",
       "    </tr>\n",
       "    <tr>\n",
       "      <th>test/14828</th>\n",
       "      <td>CHINA DAILY SAYS VERMIN EAT 7-12 PCT GRAIN STO...</td>\n",
       "      <td>[grain]</td>\n",
       "      <td>en</td>\n",
       "    </tr>\n",
       "    <tr>\n",
       "      <th>test/14829</th>\n",
       "      <td>JAPAN TO REVISE LONG-TERM ENERGY DEMAND DOWNWA...</td>\n",
       "      <td>[crude, nat-gas]</td>\n",
       "      <td>en</td>\n",
       "    </tr>\n",
       "    <tr>\n",
       "      <th>test/14832</th>\n",
       "      <td>THAI TRADE DEFICIT WIDENS IN FIRST QUARTER  Th...</td>\n",
       "      <td>[corn, grain, rice, rubber, sugar, tin, trade]</td>\n",
       "      <td>en</td>\n",
       "    </tr>\n",
       "    <tr>\n",
       "      <th>test/14833</th>\n",
       "      <td>INDONESIA SEES CPO PRICE RISING SHARPLY  Indon...</td>\n",
       "      <td>[palm-oil, veg-oil]</td>\n",
       "      <td>en</td>\n",
       "    </tr>\n",
       "  </tbody>\n",
       "</table>\n",
       "</div>"
      ],
      "text/plain": [
       "                                                   clean_text  ... language\n",
       "id                                                             ...         \n",
       "test/14826  ASIAN EXPORTERS FEAR DAMAGE FROM U.S.-JAPAN RI...  ...       en\n",
       "test/14828  CHINA DAILY SAYS VERMIN EAT 7-12 PCT GRAIN STO...  ...       en\n",
       "test/14829  JAPAN TO REVISE LONG-TERM ENERGY DEMAND DOWNWA...  ...       en\n",
       "test/14832  THAI TRADE DEFICIT WIDENS IN FIRST QUARTER  Th...  ...       en\n",
       "test/14833  INDONESIA SEES CPO PRICE RISING SHARPLY  Indon...  ...       en\n",
       "\n",
       "[5 rows x 3 columns]"
      ]
     },
     "metadata": {},
     "execution_count": 32
    }
   ]
  },
  {
   "cell_type": "code",
   "metadata": {
    "colab": {
     "base_uri": "https://localhost:8080/"
    },
    "id": "mrZiPMkH2Owx",
    "outputId": "9e7b187f-7a6c-4b05-e468-f61263ad0f89"
   },
   "source": [
    "!curl -w GET https://dl.fbaipublicfiles.com/fasttext/supervised-models/lid.176.ftz > lid.176.ftz"
   ],
   "execution_count": null,
   "outputs": [
    {
     "output_type": "stream",
     "name": "stdout",
     "text": [
      "  % Total    % Received % Xferd  Average Speed   Time    Time     Time  Current\n",
      "                                 Dload  Upload   Total   Spent    Left  Speed\n",
      "100  916k  100  916k    0     0   966k      0 --:--:-- --:--:-- --:--:--  965k\n"
     ]
    }
   ]
  },
  {
   "cell_type": "code",
   "metadata": {
    "id": "PKQQMzWF2RJx",
    "colab": {
     "base_uri": "https://localhost:8080/"
    },
    "outputId": "2b0697ad-f580-4db4-c554-c9de08c47916"
   },
   "source": [
    "import fasttext\n",
    "\n",
    "m = fasttext.load_model(\"lid.176.ftz\")\n",
    "def getLanguage(text: str):\n",
    "    return m.predict(text)[0][0].replace(\"__label__\", \"\")"
   ],
   "execution_count": null,
   "outputs": [
    {
     "output_type": "stream",
     "name": "stderr",
     "text": [
      "Warning : `load_model` does not return WordVectorModel or SupervisedModel any more, but a `FastText` object which is very similar.\n"
     ]
    }
   ]
  },
  {
   "cell_type": "code",
   "metadata": {
    "id": "ZFpW508r2WU5",
    "colab": {
     "base_uri": "https://localhost:8080/",
     "height": 49,
     "referenced_widgets": [
      "e71378226d964e4885d884ab122c8757",
      "c18bb3817b744b66a02f0df0135557e5",
      "b8b33946db5447e097ac3342e52c77e5",
      "9fbabb88478448d8a9dcd8f069da357a",
      "618fdc6b7e5d4c038eda106f1041bd5c",
      "8dc3e1f58c4d4be6a3300b2e39227ce9",
      "4094be6f974e4f63b338af37938768d3",
      "f185a1b32ea74b2688bc92675b109d21",
      "b84e51775a20471a835158d15c0723ff",
      "b6b2b82a74cd4ee3a74081965bcd4bf1",
      "7810f50a43084c84af43178127b740e4"
     ]
    },
    "outputId": "b90701a6-b180-4739-8b12-bef51aeaa775"
   },
   "source": [
    "corpus[\"language\"] = corpus[\"clean_text\"].progress_apply(getLanguage)"
   ],
   "execution_count": null,
   "outputs": [
    {
     "output_type": "display_data",
     "data": {
      "application/vnd.jupyter.widget-view+json": {
       "model_id": "e71378226d964e4885d884ab122c8757",
       "version_minor": 0,
       "version_major": 2
      },
      "text/plain": [
       "  0%|          | 0/10788 [00:00<?, ?it/s]"
      ]
     },
     "metadata": {}
    }
   ]
  },
  {
   "cell_type": "code",
   "metadata": {
    "id": "zaUD38O32Xnt",
    "colab": {
     "base_uri": "https://localhost:8080/"
    },
    "outputId": "c1ac380a-3a6c-4907-805c-3917d669abcc"
   },
   "source": [
    "corpus[\"language\"].value_counts().head(10)"
   ],
   "execution_count": null,
   "outputs": [
    {
     "output_type": "execute_result",
     "data": {
      "text/plain": [
       "en    10278\n",
       "de       90\n",
       "ja       73\n",
       "it       67\n",
       "sv       52\n",
       "zh       48\n",
       "es       31\n",
       "fr       27\n",
       "eu       20\n",
       "eo       12\n",
       "Name: language, dtype: int64"
      ]
     },
     "metadata": {},
     "execution_count": 36
    }
   ]
  },
  {
   "cell_type": "code",
   "metadata": {
    "id": "9Ce4liYp2ciS",
    "colab": {
     "base_uri": "https://localhost:8080/",
     "height": 53
    },
    "outputId": "936087ad-0c79-44f3-e32b-7e5f137a5992"
   },
   "source": [
    "corpus[corpus[\"language\"]==\"ja\"].iloc[5][\"clean_text\"]"
   ],
   "execution_count": null,
   "outputs": [
    {
     "output_type": "execute_result",
     "data": {
      "application/vnd.google.colaboratory.intrinsic+json": {
       "type": "string"
      },
      "text/plain": [
       "'USDA - U.S. 1986/87 ENDING CORN STOCKS  5,240 MLN BU, WHEAT 1,848 MLN, SOYBEANS 610 MLN  USDA - U.S. 1986/87 ENDING CORN STOCKS  5,240 MLN BU, WHEAT 1,848 MLN, SOYBEANS 610 MLN  '"
      ]
     },
     "metadata": {},
     "execution_count": 37
    }
   ]
  },
  {
   "cell_type": "markdown",
   "metadata": {
    "id": "zUpIG_Ji2kPc"
   },
   "source": [
    "\n",
    "NLP Enrichment"
   ]
  },
  {
   "cell_type": "code",
   "metadata": {
    "colab": {
     "base_uri": "https://localhost:8080/"
    },
    "id": "YfARX1P_3nxr",
    "outputId": "8f3bd551-841f-4488-e472-dd35d16f8dc4"
   },
   "source": [
    "!python -m spacy download en_core_web_md "
   ],
   "execution_count": null,
   "outputs": [
    {
     "output_type": "stream",
     "name": "stdout",
     "text": [
      "Collecting en_core_web_md==2.2.5\n",
      "  Downloading https://github.com/explosion/spacy-models/releases/download/en_core_web_md-2.2.5/en_core_web_md-2.2.5.tar.gz (96.4 MB)\n",
      "\u001B[K     |████████████████████████████████| 96.4 MB 1.2 MB/s \n",
      "\u001B[?25hRequirement already satisfied: spacy>=2.2.2 in /usr/local/lib/python3.7/dist-packages (from en_core_web_md==2.2.5) (2.2.4)\n",
      "Requirement already satisfied: catalogue<1.1.0,>=0.0.7 in /usr/local/lib/python3.7/dist-packages (from spacy>=2.2.2->en_core_web_md==2.2.5) (1.0.0)\n",
      "Requirement already satisfied: cymem<2.1.0,>=2.0.2 in /usr/local/lib/python3.7/dist-packages (from spacy>=2.2.2->en_core_web_md==2.2.5) (2.0.5)\n",
      "Requirement already satisfied: murmurhash<1.1.0,>=0.28.0 in /usr/local/lib/python3.7/dist-packages (from spacy>=2.2.2->en_core_web_md==2.2.5) (1.0.5)\n",
      "Requirement already satisfied: wasabi<1.1.0,>=0.4.0 in /usr/local/lib/python3.7/dist-packages (from spacy>=2.2.2->en_core_web_md==2.2.5) (0.8.2)\n",
      "Requirement already satisfied: tqdm<5.0.0,>=4.38.0 in /usr/local/lib/python3.7/dist-packages (from spacy>=2.2.2->en_core_web_md==2.2.5) (4.62.3)\n",
      "Requirement already satisfied: blis<0.5.0,>=0.4.0 in /usr/local/lib/python3.7/dist-packages (from spacy>=2.2.2->en_core_web_md==2.2.5) (0.4.1)\n",
      "Requirement already satisfied: thinc==7.4.0 in /usr/local/lib/python3.7/dist-packages (from spacy>=2.2.2->en_core_web_md==2.2.5) (7.4.0)\n",
      "Requirement already satisfied: requests<3.0.0,>=2.13.0 in /usr/local/lib/python3.7/dist-packages (from spacy>=2.2.2->en_core_web_md==2.2.5) (2.23.0)\n",
      "Requirement already satisfied: plac<1.2.0,>=0.9.6 in /usr/local/lib/python3.7/dist-packages (from spacy>=2.2.2->en_core_web_md==2.2.5) (1.1.3)\n",
      "Requirement already satisfied: numpy>=1.15.0 in /usr/local/lib/python3.7/dist-packages (from spacy>=2.2.2->en_core_web_md==2.2.5) (1.19.5)\n",
      "Requirement already satisfied: srsly<1.1.0,>=1.0.2 in /usr/local/lib/python3.7/dist-packages (from spacy>=2.2.2->en_core_web_md==2.2.5) (1.0.5)\n",
      "Requirement already satisfied: preshed<3.1.0,>=3.0.2 in /usr/local/lib/python3.7/dist-packages (from spacy>=2.2.2->en_core_web_md==2.2.5) (3.0.5)\n",
      "Requirement already satisfied: setuptools in /usr/local/lib/python3.7/dist-packages (from spacy>=2.2.2->en_core_web_md==2.2.5) (57.4.0)\n",
      "Requirement already satisfied: importlib-metadata>=0.20 in /usr/local/lib/python3.7/dist-packages (from catalogue<1.1.0,>=0.0.7->spacy>=2.2.2->en_core_web_md==2.2.5) (4.8.1)\n",
      "Requirement already satisfied: zipp>=0.5 in /usr/local/lib/python3.7/dist-packages (from importlib-metadata>=0.20->catalogue<1.1.0,>=0.0.7->spacy>=2.2.2->en_core_web_md==2.2.5) (3.6.0)\n",
      "Requirement already satisfied: typing-extensions>=3.6.4 in /usr/local/lib/python3.7/dist-packages (from importlib-metadata>=0.20->catalogue<1.1.0,>=0.0.7->spacy>=2.2.2->en_core_web_md==2.2.5) (3.7.4.3)\n",
      "Requirement already satisfied: idna<3,>=2.5 in /usr/local/lib/python3.7/dist-packages (from requests<3.0.0,>=2.13.0->spacy>=2.2.2->en_core_web_md==2.2.5) (2.10)\n",
      "Requirement already satisfied: certifi>=2017.4.17 in /usr/local/lib/python3.7/dist-packages (from requests<3.0.0,>=2.13.0->spacy>=2.2.2->en_core_web_md==2.2.5) (2021.5.30)\n",
      "Requirement already satisfied: chardet<4,>=3.0.2 in /usr/local/lib/python3.7/dist-packages (from requests<3.0.0,>=2.13.0->spacy>=2.2.2->en_core_web_md==2.2.5) (3.0.4)\n",
      "Requirement already satisfied: urllib3!=1.25.0,!=1.25.1,<1.26,>=1.21.1 in /usr/local/lib/python3.7/dist-packages (from requests<3.0.0,>=2.13.0->spacy>=2.2.2->en_core_web_md==2.2.5) (1.24.3)\n",
      "Building wheels for collected packages: en-core-web-md\n",
      "  Building wheel for en-core-web-md (setup.py) ... \u001B[?25l\u001B[?25hdone\n",
      "  Created wheel for en-core-web-md: filename=en_core_web_md-2.2.5-py3-none-any.whl size=98051302 sha256=1acafcfe898a1bc19f16103b2d907e68fce7b1fdbea2f27f615c23733889501b\n",
      "  Stored in directory: /tmp/pip-ephem-wheel-cache-tv29a41y/wheels/69/c5/b8/4f1c029d89238734311b3269762ab2ee325a42da2ce8edb997\n",
      "Successfully built en-core-web-md\n",
      "Installing collected packages: en-core-web-md\n",
      "Successfully installed en-core-web-md-2.2.5\n",
      "\u001B[38;5;2m✔ Download and installation successful\u001B[0m\n",
      "You can now load the model via spacy.load('en_core_web_md')\n"
     ]
    }
   ]
  },
  {
   "cell_type": "code",
   "metadata": {
    "id": "4CVP5r3g3pXH"
   },
   "source": [
    "import en_core_web_sm\n",
    "nlp = spacy.load('en_core_web_md')"
   ],
   "execution_count": null,
   "outputs": []
  },
  {
   "cell_type": "code",
   "metadata": {
    "id": "1LmPTMNZ3sNN",
    "colab": {
     "base_uri": "https://localhost:8080/",
     "height": 49,
     "referenced_widgets": [
      "ebf9d3166c364c3c89b15aadf96efc98",
      "04a13f3166d349b78579aa0c72963697",
      "b0ef1f6a85cd49b2a415c878bae8ffad",
      "6ca8678f68aa465ab79acbf95b78a562",
      "9e5edd69701648b7aa0bd1988160f40a",
      "0fdfba14d5004cf193a03c7557c3d911",
      "7ad89034115445ad8898d70e4def32cb",
      "817e7ad25bd6453c85390b3af1c6fe17",
      "655049c8df1e43018e5a977eb8a63abb",
      "4fe3ff0fbdd246868abf22cf616682f8",
      "6c35fe5ca2f544f3a1740a12fe3e2ea2"
     ]
    },
    "outputId": "4d336587-6d26-441d-c2a5-2f81dc1c0dd8"
   },
   "source": [
    "corpus[\"parsed\"] = corpus[\"clean_text\"].progress_apply(nlp)"
   ],
   "execution_count": null,
   "outputs": [
    {
     "output_type": "display_data",
     "data": {
      "application/vnd.jupyter.widget-view+json": {
       "model_id": "ebf9d3166c364c3c89b15aadf96efc98",
       "version_minor": 0,
       "version_major": 2
      },
      "text/plain": [
       "  0%|          | 0/10788 [00:00<?, ?it/s]"
      ]
     },
     "metadata": {}
    }
   ]
  },
  {
   "cell_type": "code",
   "metadata": {
    "colab": {
     "base_uri": "https://localhost:8080/",
     "height": 141
    },
    "id": "bG9DXARN3uNv",
    "outputId": "aff16d32-7d56-491c-9bf8-e5e88a4f1cbf"
   },
   "source": [
    "corpus.loc[\"test/14832\"][\"clean_text\"]"
   ],
   "execution_count": null,
   "outputs": [
    {
     "output_type": "execute_result",
     "data": {
      "application/vnd.google.colaboratory.intrinsic+json": {
       "type": "string"
      },
      "text/plain": [
       "\"THAI TRADE DEFICIT WIDENS IN FIRST QUARTER  Thailand's trade deficit widened to 4.5  billion baht in the first quarter of 1987 from 2.1 billion a  year ago, the Business Economics Department said.      It said Janunary/March imports rose to 65.1 billion baht  from 58.7 billion. Thailand's improved business climate this  year resulted in a 27 pct increase in imports of raw materials  and semi-finished products.      The country's oil import bill, however, fell 23 pct in the  first quarter due to lower oil prices.      The department said first quarter exports expanded to 60.6  billion baht from 56.6 billion.      Export growth was smaller than expected due to lower  earnings from many key commodities including rice whose  earnings declined 18 pct, maize 66 pct, sugar 45 pct, tin 26  pct and canned pineapples seven pct.      Products registering high export growth were jewellery up  64 pct, clothing 57 pct and rubber 35 pct.  \""
      ]
     },
     "metadata": {},
     "execution_count": 41
    }
   ]
  },
  {
   "cell_type": "code",
   "metadata": {
    "id": "YAdt6fj64LL_"
   },
   "source": [
    "from spacy import displacy"
   ],
   "execution_count": null,
   "outputs": []
  },
  {
   "cell_type": "code",
   "metadata": {
    "colab": {
     "base_uri": "https://localhost:8080/",
     "height": 312
    },
    "id": "fk9uwQdc4NsD",
    "outputId": "06914801-fdf5-4f89-eafb-a84fe36b20c4"
   },
   "source": [
    "displacy.render(corpus.loc[\"test/14832\"][\"parsed\"], style='ent', jupyter=True)"
   ],
   "execution_count": null,
   "outputs": [
    {
     "output_type": "display_data",
     "data": {
      "text/html": [
       "<span class=\"tex2jax_ignore\"><div class=\"entities\" style=\"line-height: 2.5; direction: ltr\">\n",
       "<mark class=\"entity\" style=\"background: #7aecec; padding: 0.45em 0.6em; margin: 0 0.25em; line-height: 1; border-radius: 0.35em;\">\n",
       "    THAI\n",
       "    <span style=\"font-size: 0.8em; font-weight: bold; line-height: 1; border-radius: 0.35em; text-transform: uppercase; vertical-align: middle; margin-left: 0.5rem\">ORG</span>\n",
       "</mark>\n",
       " TRADE DEFICIT WIDENS IN \n",
       "<mark class=\"entity\" style=\"background: #7aecec; padding: 0.45em 0.6em; margin: 0 0.25em; line-height: 1; border-radius: 0.35em;\">\n",
       "    FIRST QUARTER\n",
       "    <span style=\"font-size: 0.8em; font-weight: bold; line-height: 1; border-radius: 0.35em; text-transform: uppercase; vertical-align: middle; margin-left: 0.5rem\">ORG</span>\n",
       "</mark>\n",
       "  \n",
       "<mark class=\"entity\" style=\"background: #feca74; padding: 0.45em 0.6em; margin: 0 0.25em; line-height: 1; border-radius: 0.35em;\">\n",
       "    Thailand\n",
       "    <span style=\"font-size: 0.8em; font-weight: bold; line-height: 1; border-radius: 0.35em; text-transform: uppercase; vertical-align: middle; margin-left: 0.5rem\">GPE</span>\n",
       "</mark>\n",
       "'s trade deficit widened to \n",
       "<mark class=\"entity\" style=\"background: #e4e7d2; padding: 0.45em 0.6em; margin: 0 0.25em; line-height: 1; border-radius: 0.35em;\">\n",
       "    4.5  billion\n",
       "    <span style=\"font-size: 0.8em; font-weight: bold; line-height: 1; border-radius: 0.35em; text-transform: uppercase; vertical-align: middle; margin-left: 0.5rem\">MONEY</span>\n",
       "</mark>\n",
       " baht in \n",
       "<mark class=\"entity\" style=\"background: #bfe1d9; padding: 0.45em 0.6em; margin: 0 0.25em; line-height: 1; border-radius: 0.35em;\">\n",
       "    the first quarter of 1987\n",
       "    <span style=\"font-size: 0.8em; font-weight: bold; line-height: 1; border-radius: 0.35em; text-transform: uppercase; vertical-align: middle; margin-left: 0.5rem\">DATE</span>\n",
       "</mark>\n",
       " from \n",
       "<mark class=\"entity\" style=\"background: #e4e7d2; padding: 0.45em 0.6em; margin: 0 0.25em; line-height: 1; border-radius: 0.35em;\">\n",
       "    2.1 billion\n",
       "    <span style=\"font-size: 0.8em; font-weight: bold; line-height: 1; border-radius: 0.35em; text-transform: uppercase; vertical-align: middle; margin-left: 0.5rem\">CARDINAL</span>\n",
       "</mark>\n",
       " \n",
       "<mark class=\"entity\" style=\"background: #bfe1d9; padding: 0.45em 0.6em; margin: 0 0.25em; line-height: 1; border-radius: 0.35em;\">\n",
       "    a  year ago\n",
       "    <span style=\"font-size: 0.8em; font-weight: bold; line-height: 1; border-radius: 0.35em; text-transform: uppercase; vertical-align: middle; margin-left: 0.5rem\">DATE</span>\n",
       "</mark>\n",
       ", \n",
       "<mark class=\"entity\" style=\"background: #7aecec; padding: 0.45em 0.6em; margin: 0 0.25em; line-height: 1; border-radius: 0.35em;\">\n",
       "    the Business Economics Department\n",
       "    <span style=\"font-size: 0.8em; font-weight: bold; line-height: 1; border-radius: 0.35em; text-transform: uppercase; vertical-align: middle; margin-left: 0.5rem\">ORG</span>\n",
       "</mark>\n",
       " said.      It said \n",
       "<mark class=\"entity\" style=\"background: #7aecec; padding: 0.45em 0.6em; margin: 0 0.25em; line-height: 1; border-radius: 0.35em;\">\n",
       "    Janunary/March\n",
       "    <span style=\"font-size: 0.8em; font-weight: bold; line-height: 1; border-radius: 0.35em; text-transform: uppercase; vertical-align: middle; margin-left: 0.5rem\">ORG</span>\n",
       "</mark>\n",
       " imports rose to \n",
       "<mark class=\"entity\" style=\"background: #e4e7d2; padding: 0.45em 0.6em; margin: 0 0.25em; line-height: 1; border-radius: 0.35em;\">\n",
       "    65.1 billion\n",
       "    <span style=\"font-size: 0.8em; font-weight: bold; line-height: 1; border-radius: 0.35em; text-transform: uppercase; vertical-align: middle; margin-left: 0.5rem\">MONEY</span>\n",
       "</mark>\n",
       " baht  from \n",
       "<mark class=\"entity\" style=\"background: #e4e7d2; padding: 0.45em 0.6em; margin: 0 0.25em; line-height: 1; border-radius: 0.35em;\">\n",
       "    58.7 billion\n",
       "    <span style=\"font-size: 0.8em; font-weight: bold; line-height: 1; border-radius: 0.35em; text-transform: uppercase; vertical-align: middle; margin-left: 0.5rem\">MONEY</span>\n",
       "</mark>\n",
       ". \n",
       "<mark class=\"entity\" style=\"background: #feca74; padding: 0.45em 0.6em; margin: 0 0.25em; line-height: 1; border-radius: 0.35em;\">\n",
       "    Thailand\n",
       "    <span style=\"font-size: 0.8em; font-weight: bold; line-height: 1; border-radius: 0.35em; text-transform: uppercase; vertical-align: middle; margin-left: 0.5rem\">GPE</span>\n",
       "</mark>\n",
       "'s improved business climate \n",
       "<mark class=\"entity\" style=\"background: #bfe1d9; padding: 0.45em 0.6em; margin: 0 0.25em; line-height: 1; border-radius: 0.35em;\">\n",
       "    this  year\n",
       "    <span style=\"font-size: 0.8em; font-weight: bold; line-height: 1; border-radius: 0.35em; text-transform: uppercase; vertical-align: middle; margin-left: 0.5rem\">DATE</span>\n",
       "</mark>\n",
       " resulted in a \n",
       "<mark class=\"entity\" style=\"background: #e4e7d2; padding: 0.45em 0.6em; margin: 0 0.25em; line-height: 1; border-radius: 0.35em;\">\n",
       "    27\n",
       "    <span style=\"font-size: 0.8em; font-weight: bold; line-height: 1; border-radius: 0.35em; text-transform: uppercase; vertical-align: middle; margin-left: 0.5rem\">CARDINAL</span>\n",
       "</mark>\n",
       " pct increase in imports of raw materials  and semi-finished products.      The country's oil import bill, however, fell \n",
       "<mark class=\"entity\" style=\"background: #e4e7d2; padding: 0.45em 0.6em; margin: 0 0.25em; line-height: 1; border-radius: 0.35em;\">\n",
       "    23\n",
       "    <span style=\"font-size: 0.8em; font-weight: bold; line-height: 1; border-radius: 0.35em; text-transform: uppercase; vertical-align: middle; margin-left: 0.5rem\">CARDINAL</span>\n",
       "</mark>\n",
       " pct in \n",
       "<mark class=\"entity\" style=\"background: #bfe1d9; padding: 0.45em 0.6em; margin: 0 0.25em; line-height: 1; border-radius: 0.35em;\">\n",
       "    the  first quarter\n",
       "    <span style=\"font-size: 0.8em; font-weight: bold; line-height: 1; border-radius: 0.35em; text-transform: uppercase; vertical-align: middle; margin-left: 0.5rem\">DATE</span>\n",
       "</mark>\n",
       " due to lower oil prices.      The department said \n",
       "<mark class=\"entity\" style=\"background: #e4e7d2; padding: 0.45em 0.6em; margin: 0 0.25em; line-height: 1; border-radius: 0.35em;\">\n",
       "    first\n",
       "    <span style=\"font-size: 0.8em; font-weight: bold; line-height: 1; border-radius: 0.35em; text-transform: uppercase; vertical-align: middle; margin-left: 0.5rem\">ORDINAL</span>\n",
       "</mark>\n",
       " quarter exports expanded to \n",
       "<mark class=\"entity\" style=\"background: #e4e7d2; padding: 0.45em 0.6em; margin: 0 0.25em; line-height: 1; border-radius: 0.35em;\">\n",
       "    60.6  billion\n",
       "    <span style=\"font-size: 0.8em; font-weight: bold; line-height: 1; border-radius: 0.35em; text-transform: uppercase; vertical-align: middle; margin-left: 0.5rem\">MONEY</span>\n",
       "</mark>\n",
       " baht from \n",
       "<mark class=\"entity\" style=\"background: #e4e7d2; padding: 0.45em 0.6em; margin: 0 0.25em; line-height: 1; border-radius: 0.35em;\">\n",
       "    56.6 billion\n",
       "    <span style=\"font-size: 0.8em; font-weight: bold; line-height: 1; border-radius: 0.35em; text-transform: uppercase; vertical-align: middle; margin-left: 0.5rem\">MONEY</span>\n",
       "</mark>\n",
       ".      Export growth was smaller than expected due to lower  earnings from many key commodities including rice whose  earnings declined \n",
       "<mark class=\"entity\" style=\"background: #e4e7d2; padding: 0.45em 0.6em; margin: 0 0.25em; line-height: 1; border-radius: 0.35em;\">\n",
       "    18\n",
       "    <span style=\"font-size: 0.8em; font-weight: bold; line-height: 1; border-radius: 0.35em; text-transform: uppercase; vertical-align: middle; margin-left: 0.5rem\">CARDINAL</span>\n",
       "</mark>\n",
       " \n",
       "<mark class=\"entity\" style=\"background: #7aecec; padding: 0.45em 0.6em; margin: 0 0.25em; line-height: 1; border-radius: 0.35em;\">\n",
       "    pct\n",
       "    <span style=\"font-size: 0.8em; font-weight: bold; line-height: 1; border-radius: 0.35em; text-transform: uppercase; vertical-align: middle; margin-left: 0.5rem\">ORG</span>\n",
       "</mark>\n",
       ", maize \n",
       "<mark class=\"entity\" style=\"background: #e4e7d2; padding: 0.45em 0.6em; margin: 0 0.25em; line-height: 1; border-radius: 0.35em;\">\n",
       "    66\n",
       "    <span style=\"font-size: 0.8em; font-weight: bold; line-height: 1; border-radius: 0.35em; text-transform: uppercase; vertical-align: middle; margin-left: 0.5rem\">CARDINAL</span>\n",
       "</mark>\n",
       " pct, sugar \n",
       "<mark class=\"entity\" style=\"background: #e4e7d2; padding: 0.45em 0.6em; margin: 0 0.25em; line-height: 1; border-radius: 0.35em;\">\n",
       "    45\n",
       "    <span style=\"font-size: 0.8em; font-weight: bold; line-height: 1; border-radius: 0.35em; text-transform: uppercase; vertical-align: middle; margin-left: 0.5rem\">CARDINAL</span>\n",
       "</mark>\n",
       " \n",
       "<mark class=\"entity\" style=\"background: #7aecec; padding: 0.45em 0.6em; margin: 0 0.25em; line-height: 1; border-radius: 0.35em;\">\n",
       "    pct\n",
       "    <span style=\"font-size: 0.8em; font-weight: bold; line-height: 1; border-radius: 0.35em; text-transform: uppercase; vertical-align: middle; margin-left: 0.5rem\">ORG</span>\n",
       "</mark>\n",
       ", tin \n",
       "<mark class=\"entity\" style=\"background: #e4e7d2; padding: 0.45em 0.6em; margin: 0 0.25em; line-height: 1; border-radius: 0.35em;\">\n",
       "    26\n",
       "    <span style=\"font-size: 0.8em; font-weight: bold; line-height: 1; border-radius: 0.35em; text-transform: uppercase; vertical-align: middle; margin-left: 0.5rem\">CARDINAL</span>\n",
       "</mark>\n",
       "  \n",
       "<mark class=\"entity\" style=\"background: #7aecec; padding: 0.45em 0.6em; margin: 0 0.25em; line-height: 1; border-radius: 0.35em;\">\n",
       "    pct\n",
       "    <span style=\"font-size: 0.8em; font-weight: bold; line-height: 1; border-radius: 0.35em; text-transform: uppercase; vertical-align: middle; margin-left: 0.5rem\">ORG</span>\n",
       "</mark>\n",
       " and canned pineapples \n",
       "<mark class=\"entity\" style=\"background: #e4e7d2; padding: 0.45em 0.6em; margin: 0 0.25em; line-height: 1; border-radius: 0.35em;\">\n",
       "    seven\n",
       "    <span style=\"font-size: 0.8em; font-weight: bold; line-height: 1; border-radius: 0.35em; text-transform: uppercase; vertical-align: middle; margin-left: 0.5rem\">CARDINAL</span>\n",
       "</mark>\n",
       " pct.      Products registering high export growth were jewellery up  \n",
       "<mark class=\"entity\" style=\"background: #e4e7d2; padding: 0.45em 0.6em; margin: 0 0.25em; line-height: 1; border-radius: 0.35em;\">\n",
       "    64\n",
       "    <span style=\"font-size: 0.8em; font-weight: bold; line-height: 1; border-radius: 0.35em; text-transform: uppercase; vertical-align: middle; margin-left: 0.5rem\">CARDINAL</span>\n",
       "</mark>\n",
       " pct, clothing \n",
       "<mark class=\"entity\" style=\"background: #e4e7d2; padding: 0.45em 0.6em; margin: 0 0.25em; line-height: 1; border-radius: 0.35em;\">\n",
       "    57\n",
       "    <span style=\"font-size: 0.8em; font-weight: bold; line-height: 1; border-radius: 0.35em; text-transform: uppercase; vertical-align: middle; margin-left: 0.5rem\">CARDINAL</span>\n",
       "</mark>\n",
       " pct and rubber \n",
       "<mark class=\"entity\" style=\"background: #e4e7d2; padding: 0.45em 0.6em; margin: 0 0.25em; line-height: 1; border-radius: 0.35em;\">\n",
       "    35\n",
       "    <span style=\"font-size: 0.8em; font-weight: bold; line-height: 1; border-radius: 0.35em; text-transform: uppercase; vertical-align: middle; margin-left: 0.5rem\">CARDINAL</span>\n",
       "</mark>\n",
       " \n",
       "<mark class=\"entity\" style=\"background: #7aecec; padding: 0.45em 0.6em; margin: 0 0.25em; line-height: 1; border-radius: 0.35em;\">\n",
       "    pct\n",
       "    <span style=\"font-size: 0.8em; font-weight: bold; line-height: 1; border-radius: 0.35em; text-transform: uppercase; vertical-align: middle; margin-left: 0.5rem\">ORG</span>\n",
       "</mark>\n",
       ".  </div></span>"
      ],
      "text/plain": [
       "<IPython.core.display.HTML object>"
      ]
     },
     "metadata": {}
    }
   ]
  },
  {
   "cell_type": "code",
   "metadata": {
    "colab": {
     "base_uri": "https://localhost:8080/",
     "height": 301
    },
    "id": "vD9_5oWm4Q3m",
    "outputId": "cd68a83d-d318-455c-b46a-7e1e4219de27"
   },
   "source": [
    "corpus.head()"
   ],
   "execution_count": null,
   "outputs": [
    {
     "output_type": "execute_result",
     "data": {
      "text/html": [
       "<div>\n",
       "<style scoped>\n",
       "    .dataframe tbody tr th:only-of-type {\n",
       "        vertical-align: middle;\n",
       "    }\n",
       "\n",
       "    .dataframe tbody tr th {\n",
       "        vertical-align: top;\n",
       "    }\n",
       "\n",
       "    .dataframe thead th {\n",
       "        text-align: right;\n",
       "    }\n",
       "</style>\n",
       "<table border=\"1\" class=\"dataframe\">\n",
       "  <thead>\n",
       "    <tr style=\"text-align: right;\">\n",
       "      <th></th>\n",
       "      <th>clean_text</th>\n",
       "      <th>label</th>\n",
       "      <th>language</th>\n",
       "      <th>parsed</th>\n",
       "    </tr>\n",
       "    <tr>\n",
       "      <th>id</th>\n",
       "      <th></th>\n",
       "      <th></th>\n",
       "      <th></th>\n",
       "      <th></th>\n",
       "    </tr>\n",
       "  </thead>\n",
       "  <tbody>\n",
       "    <tr>\n",
       "      <th>test/14826</th>\n",
       "      <td>ASIAN EXPORTERS FEAR DAMAGE FROM U.S.-JAPAN RI...</td>\n",
       "      <td>[trade]</td>\n",
       "      <td>en</td>\n",
       "      <td>(ASIAN, EXPORTERS, FEAR, DAMAGE, FROM, U.S.-JA...</td>\n",
       "    </tr>\n",
       "    <tr>\n",
       "      <th>test/14828</th>\n",
       "      <td>CHINA DAILY SAYS VERMIN EAT 7-12 PCT GRAIN STO...</td>\n",
       "      <td>[grain]</td>\n",
       "      <td>en</td>\n",
       "      <td>(CHINA, DAILY, SAYS, VERMIN, EAT, 7, -, 12, PC...</td>\n",
       "    </tr>\n",
       "    <tr>\n",
       "      <th>test/14829</th>\n",
       "      <td>JAPAN TO REVISE LONG-TERM ENERGY DEMAND DOWNWA...</td>\n",
       "      <td>[crude, nat-gas]</td>\n",
       "      <td>en</td>\n",
       "      <td>(JAPAN, TO, REVISE, LONG, -, TERM, ENERGY, DEM...</td>\n",
       "    </tr>\n",
       "    <tr>\n",
       "      <th>test/14832</th>\n",
       "      <td>THAI TRADE DEFICIT WIDENS IN FIRST QUARTER  Th...</td>\n",
       "      <td>[corn, grain, rice, rubber, sugar, tin, trade]</td>\n",
       "      <td>en</td>\n",
       "      <td>(THAI, TRADE, DEFICIT, WIDENS, IN, FIRST, QUAR...</td>\n",
       "    </tr>\n",
       "    <tr>\n",
       "      <th>test/14833</th>\n",
       "      <td>INDONESIA SEES CPO PRICE RISING SHARPLY  Indon...</td>\n",
       "      <td>[palm-oil, veg-oil]</td>\n",
       "      <td>en</td>\n",
       "      <td>(INDONESIA, SEES, CPO, PRICE, RISING, SHARPLY,...</td>\n",
       "    </tr>\n",
       "  </tbody>\n",
       "</table>\n",
       "</div>"
      ],
      "text/plain": [
       "                                                   clean_text  ...                                             parsed\n",
       "id                                                             ...                                                   \n",
       "test/14826  ASIAN EXPORTERS FEAR DAMAGE FROM U.S.-JAPAN RI...  ...  (ASIAN, EXPORTERS, FEAR, DAMAGE, FROM, U.S.-JA...\n",
       "test/14828  CHINA DAILY SAYS VERMIN EAT 7-12 PCT GRAIN STO...  ...  (CHINA, DAILY, SAYS, VERMIN, EAT, 7, -, 12, PC...\n",
       "test/14829  JAPAN TO REVISE LONG-TERM ENERGY DEMAND DOWNWA...  ...  (JAPAN, TO, REVISE, LONG, -, TERM, ENERGY, DEM...\n",
       "test/14832  THAI TRADE DEFICIT WIDENS IN FIRST QUARTER  Th...  ...  (THAI, TRADE, DEFICIT, WIDENS, IN, FIRST, QUAR...\n",
       "test/14833  INDONESIA SEES CPO PRICE RISING SHARPLY  Indon...  ...  (INDONESIA, SEES, CPO, PRICE, RISING, SHARPLY,...\n",
       "\n",
       "[5 rows x 4 columns]"
      ]
     },
     "metadata": {},
     "execution_count": 44
    }
   ]
  },
  {
   "cell_type": "code",
   "metadata": {
    "id": "8SEFLKHP4Tfo"
   },
   "source": [
    "corpus[[\"clean_text\", \"label\", \"language\", \"parsed\"]].to_pickle(\"corpus.p\")"
   ],
   "execution_count": null,
   "outputs": []
  },
  {
   "cell_type": "markdown",
   "metadata": {
    "id": "qsl-ysEk4Vkg"
   },
   "source": [
    "\n",
    "# Knowledge Graph Generation (지식그래프 생성)\n",
    "- Knowledge base graphs, where the subject-verb-object relation will be encoded to build a semantic graph\n",
    "- Bipartite graphs, linking documents with the entities/keywords "
   ]
  },
  {
   "cell_type": "markdown",
   "metadata": {
    "id": "87GfG8H1ewSC"
   },
   "source": [
    "## Triplet(Subject-Verb-Object로 구성된)을 생성함"
   ]
  },
  {
   "cell_type": "code",
   "metadata": {
    "id": "OU5Ka2Gi4mLz"
   },
   "source": [
    "from nltk.stem.wordnet import WordNetLemmatizer\n",
    "from spacy.lang.en import English\n",
    "\n",
    "SUBJECTS = [\"nsubj\", \"nsubjpass\", \"csubj\", \"csubjpass\", \"agent\", \"expl\"]\n",
    "OBJECTS = [\"dobj\", \"dative\", \"attr\", \"oprd\"]\n",
    "\n",
    "def getSubsFromConjunctions(subs):\n",
    "    moreSubs = []\n",
    "    for sub in subs:\n",
    "        # rights is a generator\n",
    "        rights = list(sub.rights)\n",
    "        rightDeps = {tok.lower_ for tok in rights}\n",
    "        if \"and\" in rightDeps:\n",
    "            moreSubs.extend([tok for tok in rights if tok.dep_ in SUBJECTS or tok.pos_ == \"NOUN\"])\n",
    "            if len(moreSubs) > 0:\n",
    "                moreSubs.extend(getSubsFromConjunctions(moreSubs))\n",
    "    return moreSubs\n",
    "\n",
    "def getObjsFromConjunctions(objs):\n",
    "    moreObjs = []\n",
    "    for obj in objs:\n",
    "        # rights is a generator\n",
    "        rights = list(obj.rights)\n",
    "        rightDeps = {tok.lower_ for tok in rights}\n",
    "        if \"and\" in rightDeps:\n",
    "            moreObjs.extend([tok for tok in rights if tok.dep_ in OBJECTS or tok.pos_ == \"NOUN\"])\n",
    "            if len(moreObjs) > 0:\n",
    "                moreObjs.extend(getObjsFromConjunctions(moreObjs))\n",
    "    return moreObjs\n",
    "\n",
    "def getVerbsFromConjunctions(verbs):\n",
    "    moreVerbs = []\n",
    "    for verb in verbs:\n",
    "        rightDeps = {tok.lower_ for tok in verb.rights}\n",
    "        if \"and\" in rightDeps:\n",
    "            moreVerbs.extend([tok for tok in verb.rights if tok.pos_ == \"VERB\"])\n",
    "            if len(moreVerbs) > 0:\n",
    "                moreVerbs.extend(getVerbsFromConjunctions(moreVerbs))\n",
    "    return moreVerbs\n",
    "\n",
    "def findSubs(tok):\n",
    "    head = tok.head\n",
    "    while head.pos_ != \"VERB\" and head.pos_ != \"NOUN\" and head.head != head:\n",
    "        head = head.head\n",
    "    if head.pos_ == \"VERB\":\n",
    "        subs = [tok for tok in head.lefts if tok.dep_ == \"SUB\"]\n",
    "        if len(subs) > 0:\n",
    "            verbNegated = isNegated(head)\n",
    "            subs.extend(getSubsFromConjunctions(subs))\n",
    "            return subs, verbNegated\n",
    "        elif head.head != head:\n",
    "            return findSubs(head)\n",
    "    elif head.pos_ == \"NOUN\":\n",
    "        return [head], isNegated(tok)\n",
    "    return [], False\n",
    "\n",
    "def isNegated(tok):\n",
    "    negations = {\"no\", \"not\", \"n't\", \"never\", \"none\"}\n",
    "    for dep in list(tok.lefts) + list(tok.rights):\n",
    "        if dep.lower_ in negations:\n",
    "            return True\n",
    "    return False\n",
    "\n",
    "def findSVs(tokens):\n",
    "    svs = []\n",
    "    verbs = [tok for tok in tokens if tok.pos_ == \"VERB\"]\n",
    "    for v in verbs:\n",
    "        subs, verbNegated = getAllSubs(v)\n",
    "        if len(subs) > 0:\n",
    "            for sub in subs:\n",
    "                svs.append((sub.orth_, \"!\" + v.orth_ if verbNegated else v.orth_))\n",
    "    return svs\n",
    "\n",
    "def getObjsFromPrepositions(deps):\n",
    "    objs = []\n",
    "    for dep in deps:\n",
    "        if dep.pos_ == \"ADP\" and dep.dep_ == \"prep\":\n",
    "            objs.extend([tok for tok in dep.rights if tok.dep_  in OBJECTS or (tok.pos_ == \"PRON\" and tok.lower_ == \"me\")])\n",
    "    return objs\n",
    "\n",
    "def getObjsFromAttrs(deps):\n",
    "    for dep in deps:\n",
    "        if dep.pos_ == \"NOUN\" and dep.dep_ == \"attr\":\n",
    "            verbs = [tok for tok in dep.rights if tok.pos_ == \"VERB\"]\n",
    "            if len(verbs) > 0:\n",
    "                for v in verbs:\n",
    "                    rights = list(v.rights)\n",
    "                    objs = [tok for tok in rights if tok.dep_ in OBJECTS]\n",
    "                    objs.extend(getObjsFromPrepositions(rights))\n",
    "                    if len(objs) > 0:\n",
    "                        return v, objs\n",
    "    return None, None\n",
    "\n",
    "def getObjFromXComp(deps):\n",
    "    for dep in deps:\n",
    "        if dep.pos_ == \"VERB\" and dep.dep_ == \"xcomp\":\n",
    "            v = dep\n",
    "            rights = list(v.rights)\n",
    "            objs = [tok for tok in rights if tok.dep_ in OBJECTS]\n",
    "            objs.extend(getObjsFromPrepositions(rights))\n",
    "            if len(objs) > 0:\n",
    "                return v, objs\n",
    "    return None, None\n",
    "\n",
    "def getAllSubs(v):\n",
    "    verbNegated = isNegated(v)\n",
    "    subs = [tok for tok in v.lefts if tok.dep_ in SUBJECTS and tok.pos_ != \"DET\"]\n",
    "    if len(subs) > 0:\n",
    "        subs.extend(getSubsFromConjunctions(subs))\n",
    "    else:\n",
    "        foundSubs, verbNegated = findSubs(v)\n",
    "        subs.extend(foundSubs)\n",
    "    return subs, verbNegated\n",
    "\n",
    "def getAllObjs(v):\n",
    "    # rights is a generator\n",
    "    rights = list(v.rights)\n",
    "    objs = [tok for tok in rights if tok.dep_ in OBJECTS]\n",
    "    objs.extend(getObjsFromPrepositions(rights))\n",
    "\n",
    "    #potentialNewVerb, potentialNewObjs = getObjsFromAttrs(rights)\n",
    "    #if potentialNewVerb is not None and potentialNewObjs is not None and len(potentialNewObjs) > 0:\n",
    "    #    objs.extend(potentialNewObjs)\n",
    "    #    v = potentialNewVerb\n",
    "\n",
    "    potentialNewVerb, potentialNewObjs = getObjFromXComp(rights)\n",
    "    if potentialNewVerb is not None and potentialNewObjs is not None and len(potentialNewObjs) > 0:\n",
    "        objs.extend(potentialNewObjs)\n",
    "        v = potentialNewVerb\n",
    "    if len(objs) > 0:\n",
    "        objs.extend(getObjsFromConjunctions(objs))\n",
    "    return v, objs\n",
    "\n",
    "def findSVOs(tokens):\n",
    "    svos = []\n",
    "    verbs = [tok for tok in tokens if tok.pos_ == \"VERB\" and tok.dep_ != \"aux\"]\n",
    "    for v in verbs:\n",
    "        subs, verbNegated = getAllSubs(v)\n",
    "        # hopefully there are subs, if not, don't examine this verb any longer\n",
    "        if len(subs) > 0:\n",
    "            v, objs = getAllObjs(v)\n",
    "            for sub in subs:\n",
    "                for obj in objs:\n",
    "                    objNegated = isNegated(obj)\n",
    "                    svos.append((sub.lower_, \"!\" + v.lower_ if verbNegated or objNegated else v.lower_, obj.lower_))\n",
    "    return svos\n",
    "\n",
    "def getAbuserOntoVictimSVOs(tokens):\n",
    "    maleAbuser = {'he', 'boyfriend', 'bf', 'father', 'dad', 'husband', 'brother', 'man'}\n",
    "    femaleAbuser = {'she', 'girlfriend', 'gf', 'mother', 'mom', 'wife', 'sister', 'woman'}\n",
    "    neutralAbuser = {'pastor', 'abuser', 'offender', 'ex', 'x', 'lover', 'church', 'they'}\n",
    "    victim = {'me', 'sister', 'brother', 'child', 'kid', 'baby', 'friend', 'her', 'him', 'man', 'woman'}\n",
    "\n",
    "    svos = findSVOs(tokens)\n",
    "    wnl = WordNetLemmatizer()\n",
    "    passed = []\n",
    "    for s, v, o in svos:\n",
    "        s = wnl.lemmatize(s)\n",
    "        v = \"!\" + wnl.lemmatize(v[1:], 'v') if v[0] == \"!\" else wnl.lemmatize(v, 'v')\n",
    "        o = \"!\" + wnl.lemmatize(o[1:]) if o[0] == \"!\" else wnl.lemmatize(o)\n",
    "        if s in maleAbuser.union(femaleAbuser).union(neutralAbuser) and o in victim:\n",
    "            passed.append((s, v, o))\n",
    "    return passed\n",
    "\n",
    "def printDeps(toks):\n",
    "    for tok in toks:\n",
    "        print(tok.orth_, tok.dep_, tok.pos_, tok.head.orth_, [t.orth_ for t in tok.lefts], [t.orth_ for t in tok.rights])"
   ],
   "execution_count": null,
   "outputs": []
  },
  {
   "cell_type": "code",
   "metadata": {
    "id": "LIKla4v_4xjv",
    "colab": {
     "base_uri": "https://localhost:8080/",
     "height": 49,
     "referenced_widgets": [
      "3a5fb3a1e7d94773837df042ba81a705",
      "2f43e995312a4eb282c7bd2e17263750",
      "74cd7732bf5b4e5b9388a354bb5b2dfc",
      "f7d61b5e199642fdb898d30fc9142f63",
      "cccd18789e5a42cda6c09fe1b6e87ac0",
      "31023560ed9648b590bacd7081029288",
      "761d29d886644e829894976aa58e2ccf",
      "af9cbc04d0584ec3b56c850759b7e0c0",
      "4c7ba7efaee24cde86bb7f31e1094acf",
      "4ac817767ac5431ca1b7c09e80c2890d",
      "01389e481b43482f883d6b96ddfc347d"
     ]
    },
    "outputId": "3650aa92-e85d-411d-9d72-e0282269305c"
   },
   "source": [
    "corpus[\"triplets\"] = corpus[\"parsed\"].progress_apply(lambda x: findSVOs(x))"
   ],
   "execution_count": null,
   "outputs": [
    {
     "output_type": "display_data",
     "data": {
      "application/vnd.jupyter.widget-view+json": {
       "model_id": "3a5fb3a1e7d94773837df042ba81a705",
       "version_minor": 0,
       "version_major": 2
      },
      "text/plain": [
       "  0%|          | 0/10788 [00:00<?, ?it/s]"
      ]
     },
     "metadata": {}
    }
   ]
  },
  {
   "cell_type": "code",
   "metadata": {
    "colab": {
     "base_uri": "https://localhost:8080/",
     "height": 318
    },
    "id": "o1ovDKF24zCP",
    "outputId": "782b388f-b88a-46b3-9e72-8093cbc0b7b0"
   },
   "source": [
    "corpus.head()"
   ],
   "execution_count": null,
   "outputs": [
    {
     "output_type": "execute_result",
     "data": {
      "text/html": [
       "<div>\n",
       "<style scoped>\n",
       "    .dataframe tbody tr th:only-of-type {\n",
       "        vertical-align: middle;\n",
       "    }\n",
       "\n",
       "    .dataframe tbody tr th {\n",
       "        vertical-align: top;\n",
       "    }\n",
       "\n",
       "    .dataframe thead th {\n",
       "        text-align: right;\n",
       "    }\n",
       "</style>\n",
       "<table border=\"1\" class=\"dataframe\">\n",
       "  <thead>\n",
       "    <tr style=\"text-align: right;\">\n",
       "      <th></th>\n",
       "      <th>clean_text</th>\n",
       "      <th>label</th>\n",
       "      <th>language</th>\n",
       "      <th>parsed</th>\n",
       "      <th>triplets</th>\n",
       "    </tr>\n",
       "    <tr>\n",
       "      <th>id</th>\n",
       "      <th></th>\n",
       "      <th></th>\n",
       "      <th></th>\n",
       "      <th></th>\n",
       "      <th></th>\n",
       "    </tr>\n",
       "  </thead>\n",
       "  <tbody>\n",
       "    <tr>\n",
       "      <th>test/14826</th>\n",
       "      <td>ASIAN EXPORTERS FEAR DAMAGE FROM U.S.-JAPAN RI...</td>\n",
       "      <td>[trade]</td>\n",
       "      <td>en</td>\n",
       "      <td>(ASIAN, EXPORTERS, FEAR, DAMAGE, FROM, U.S.-JA...</td>\n",
       "      <td>[(japan, raised, fears), (many, exporting, nat...</td>\n",
       "    </tr>\n",
       "    <tr>\n",
       "      <th>test/14828</th>\n",
       "      <td>CHINA DAILY SAYS VERMIN EAT 7-12 PCT GRAIN STO...</td>\n",
       "      <td>[grain]</td>\n",
       "      <td>en</td>\n",
       "      <td>(CHINA, DAILY, SAYS, VERMIN, EAT, 7, -, 12, PC...</td>\n",
       "      <td>[(daily, says, eat), (survey, showed, consume)...</td>\n",
       "    </tr>\n",
       "    <tr>\n",
       "      <th>test/14829</th>\n",
       "      <td>JAPAN TO REVISE LONG-TERM ENERGY DEMAND DOWNWA...</td>\n",
       "      <td>[crude, nat-gas]</td>\n",
       "      <td>en</td>\n",
       "      <td>(JAPAN, TO, REVISE, LONG, -, TERM, ENERGY, DEM...</td>\n",
       "      <td>[(ministry, revise, demand), (miti, lower, pro...</td>\n",
       "    </tr>\n",
       "    <tr>\n",
       "      <th>test/14832</th>\n",
       "      <td>THAI TRADE DEFICIT WIDENS IN FIRST QUARTER  Th...</td>\n",
       "      <td>[corn, grain, rice, rubber, sugar, tin, trade]</td>\n",
       "      <td>en</td>\n",
       "      <td>(THAI, TRADE, DEFICIT, WIDENS, IN, FIRST, QUAR...</td>\n",
       "      <td>[(bill, fell, pct), (earnings, declined, pct),...</td>\n",
       "    </tr>\n",
       "    <tr>\n",
       "      <th>test/14833</th>\n",
       "      <td>INDONESIA SEES CPO PRICE RISING SHARPLY  Indon...</td>\n",
       "      <td>[palm-oil, veg-oil]</td>\n",
       "      <td>en</td>\n",
       "      <td>(INDONESIA, SEES, CPO, PRICE, RISING, SHARPLY,...</td>\n",
       "      <td>[(indonesia, maintain, exports), (it, increase...</td>\n",
       "    </tr>\n",
       "  </tbody>\n",
       "</table>\n",
       "</div>"
      ],
      "text/plain": [
       "                                                   clean_text  ...                                           triplets\n",
       "id                                                             ...                                                   \n",
       "test/14826  ASIAN EXPORTERS FEAR DAMAGE FROM U.S.-JAPAN RI...  ...  [(japan, raised, fears), (many, exporting, nat...\n",
       "test/14828  CHINA DAILY SAYS VERMIN EAT 7-12 PCT GRAIN STO...  ...  [(daily, says, eat), (survey, showed, consume)...\n",
       "test/14829  JAPAN TO REVISE LONG-TERM ENERGY DEMAND DOWNWA...  ...  [(ministry, revise, demand), (miti, lower, pro...\n",
       "test/14832  THAI TRADE DEFICIT WIDENS IN FIRST QUARTER  Th...  ...  [(bill, fell, pct), (earnings, declined, pct),...\n",
       "test/14833  INDONESIA SEES CPO PRICE RISING SHARPLY  Indon...  ...  [(indonesia, maintain, exports), (it, increase...\n",
       "\n",
       "[5 rows x 5 columns]"
      ]
     },
     "metadata": {},
     "execution_count": 48
    }
   ]
  },
  {
   "cell_type": "markdown",
   "metadata": {
    "id": "Qsl1-KDPe-H7"
   },
   "source": [
    "## Triplet 기반의 데이터 프레임 생성\n",
    "( source node -> edge -> target )로 구성되는 데이터"
   ]
  },
  {
   "cell_type": "code",
   "metadata": {
    "id": "Xw6n-AzX40Uf"
   },
   "source": [
    "edge_list = [\n",
    "    {\"id\": _id, \"source\": source, \"target\": target, \"edge\": edge}\n",
    "    for _id, triplets in corpus[\"triplets\"].iteritems()\n",
    "    for (source, edge, target) in triplets\n",
    "]"
   ],
   "execution_count": null,
   "outputs": []
  },
  {
   "cell_type": "code",
   "metadata": {
    "id": "1OLO2ooF452c",
    "colab": {
     "base_uri": "https://localhost:8080/",
     "height": 417
    },
    "outputId": "576d07c3-193b-41db-c196-faeaad1b74c3"
   },
   "source": [
    "edges = pd.DataFrame(edge_list)\n",
    "edges"
   ],
   "execution_count": null,
   "outputs": [
    {
     "output_type": "execute_result",
     "data": {
      "text/html": [
       "<div>\n",
       "<style scoped>\n",
       "    .dataframe tbody tr th:only-of-type {\n",
       "        vertical-align: middle;\n",
       "    }\n",
       "\n",
       "    .dataframe tbody tr th {\n",
       "        vertical-align: top;\n",
       "    }\n",
       "\n",
       "    .dataframe thead th {\n",
       "        text-align: right;\n",
       "    }\n",
       "</style>\n",
       "<table border=\"1\" class=\"dataframe\">\n",
       "  <thead>\n",
       "    <tr style=\"text-align: right;\">\n",
       "      <th></th>\n",
       "      <th>id</th>\n",
       "      <th>source</th>\n",
       "      <th>target</th>\n",
       "      <th>edge</th>\n",
       "    </tr>\n",
       "  </thead>\n",
       "  <tbody>\n",
       "    <tr>\n",
       "      <th>0</th>\n",
       "      <td>test/14826</td>\n",
       "      <td>japan</td>\n",
       "      <td>fears</td>\n",
       "      <td>raised</td>\n",
       "    </tr>\n",
       "    <tr>\n",
       "      <th>1</th>\n",
       "      <td>test/14826</td>\n",
       "      <td>many</td>\n",
       "      <td>nations</td>\n",
       "      <td>exporting</td>\n",
       "    </tr>\n",
       "    <tr>\n",
       "      <th>2</th>\n",
       "      <td>test/14826</td>\n",
       "      <td>row</td>\n",
       "      <td>damage</td>\n",
       "      <td>inflict</td>\n",
       "    </tr>\n",
       "    <tr>\n",
       "      <th>3</th>\n",
       "      <td>test/14826</td>\n",
       "      <td>they</td>\n",
       "      <td>correspondents</td>\n",
       "      <td>told</td>\n",
       "    </tr>\n",
       "    <tr>\n",
       "      <th>4</th>\n",
       "      <td>test/14826</td>\n",
       "      <td>they</td>\n",
       "      <td>u.s.</td>\n",
       "      <td>told</td>\n",
       "    </tr>\n",
       "    <tr>\n",
       "      <th>...</th>\n",
       "      <td>...</td>\n",
       "      <td>...</td>\n",
       "      <td>...</td>\n",
       "      <td>...</td>\n",
       "    </tr>\n",
       "    <tr>\n",
       "      <th>44158</th>\n",
       "      <td>training/9989</td>\n",
       "      <td>senate</td>\n",
       "      <td>probe</td>\n",
       "      <td>seek</td>\n",
       "    </tr>\n",
       "    <tr>\n",
       "      <th>44159</th>\n",
       "      <td>training/9989</td>\n",
       "      <td>tariff</td>\n",
       "      <td>agreement</td>\n",
       "      <td>violates</td>\n",
       "    </tr>\n",
       "    <tr>\n",
       "      <th>44160</th>\n",
       "      <td>training/999</td>\n",
       "      <td>it</td>\n",
       "      <td>forecast</td>\n",
       "      <td>revised</td>\n",
       "    </tr>\n",
       "    <tr>\n",
       "      <th>44161</th>\n",
       "      <td>training/999</td>\n",
       "      <td>bank</td>\n",
       "      <td>shortfall</td>\n",
       "      <td>estimated</td>\n",
       "    </tr>\n",
       "    <tr>\n",
       "      <th>44162</th>\n",
       "      <td>training/9995</td>\n",
       "      <td>shr</td>\n",
       "      <td>cts</td>\n",
       "      <td>diluted</td>\n",
       "    </tr>\n",
       "  </tbody>\n",
       "</table>\n",
       "<p>44163 rows × 4 columns</p>\n",
       "</div>"
      ],
      "text/plain": [
       "                  id  source          target       edge\n",
       "0         test/14826   japan           fears     raised\n",
       "1         test/14826    many         nations  exporting\n",
       "2         test/14826     row          damage    inflict\n",
       "3         test/14826    they  correspondents       told\n",
       "4         test/14826    they            u.s.       told\n",
       "...              ...     ...             ...        ...\n",
       "44158  training/9989  senate           probe       seek\n",
       "44159  training/9989  tariff       agreement   violates\n",
       "44160   training/999      it        forecast    revised\n",
       "44161   training/999    bank       shortfall  estimated\n",
       "44162  training/9995     shr             cts    diluted\n",
       "\n",
       "[44163 rows x 4 columns]"
      ]
     },
     "metadata": {},
     "execution_count": 50
    }
   ]
  },
  {
   "cell_type": "code",
   "metadata": {
    "id": "JqnkFaDf48Xp",
    "colab": {
     "base_uri": "https://localhost:8080/"
    },
    "outputId": "ea411852-38ae-4a27-a726-a4aeb0c2a98e"
   },
   "source": [
    "edges[\"edge\"].value_counts().head(10)"
   ],
   "execution_count": null,
   "outputs": [
    {
     "output_type": "execute_result",
     "data": {
      "text/plain": [
       "told        1410\n",
       "includes     875\n",
       "sell         675\n",
       "buy          557\n",
       "take         516\n",
       "include      437\n",
       "bought       430\n",
       "acquire      425\n",
       "cut          397\n",
       "sold         384\n",
       "Name: edge, dtype: int64"
      ]
     },
     "metadata": {},
     "execution_count": 51
    }
   ]
  },
  {
   "cell_type": "markdown",
   "metadata": {
    "id": "cX5YlzBufXHu"
   },
   "source": [
    "## Triple 기반 데이터 프레임으로부터 그래프 모델 생성"
   ]
  },
  {
   "cell_type": "code",
   "metadata": {
    "id": "HHken2p_4-x5"
   },
   "source": [
    "G=nx.from_pandas_edgelist(edges, \"source\", \"target\", \n",
    "                          edge_attr=True, create_using=nx.MultiDiGraph())"
   ],
   "execution_count": null,
   "outputs": []
  },
  {
   "cell_type": "code",
   "metadata": {
    "id": "yeaNp8FV_3GE"
   },
   "source": [
    "def plotDistribution(serie: pd.Series, nbins: int, minValue=None, maxValue=None):\n",
    "    _minValue=int(np.floor(np.log10(minValue if minValue is not None else serie.min())))\n",
    "    _maxValue=int(np.ceil(np.log10(maxValue if maxValue is not None else serie.max())))\n",
    "    bins = [0] + list(np.logspace(_minValue, _maxValue, nbins)) + [np.inf]\n",
    "    serie.hist(bins=bins)\n",
    "    plt.xscale(\"log\")"
   ],
   "execution_count": null,
   "outputs": []
  },
  {
   "cell_type": "code",
   "metadata": {
    "id": "H1KF9YpK_4d-"
   },
   "source": [
    "def graphSummary(graph, bins=10):\n",
    "    print(nx.info(graph))\n",
    "    plt.figure(figsize=(20, 8))\n",
    "    plt.subplot(1,2,1)\n",
    "    degrees = pd.Series({k: v for k, v in nx.degree(graph)})\n",
    "    plt.yscale(\"log\")\n",
    "    plotDistribution(degrees, bins)\n",
    "    try:\n",
    "        plt.subplot(1,2,2)\n",
    "        allEdgesWeights = pd.Series({(d[0], d[1]): d[2][\"weight\"] for d in graph.edges(data=True)})\n",
    "        plotDistribution(allEdgesWeights, bins)\n",
    "        plt.yscale(\"log\")\n",
    "    except:\n",
    "        pass"
   ],
   "execution_count": null,
   "outputs": []
  },
  {
   "cell_type": "code",
   "metadata": {
    "colab": {
     "base_uri": "https://localhost:8080/"
    },
    "id": "FhG4rKFY_6ss",
    "outputId": "677be4a3-5eb2-4668-9f95-7bd704ebba14"
   },
   "source": [
    "print(nx.info(G))"
   ],
   "execution_count": null,
   "outputs": [
    {
     "output_type": "stream",
     "name": "stdout",
     "text": [
      "MultiDiGraph with 7113 nodes and 44163 edges\n"
     ]
    }
   ]
  },
  {
   "cell_type": "markdown",
   "metadata": {
    "id": "zf_erJnIfe0I"
   },
   "source": [
    "## 노드들의 분포에 대한 히스토그램\n",
    "Power Law distribution"
   ]
  },
  {
   "cell_type": "code",
   "metadata": {
    "colab": {
     "base_uri": "https://localhost:8080/",
     "height": 523
    },
    "id": "ujfnuSmo_7-G",
    "outputId": "7d3a4fe0-9321-4d1d-f5ed-d7a05499a178"
   },
   "source": [
    "graphSummary(G, bins=15)"
   ],
   "execution_count": null,
   "outputs": [
    {
     "output_type": "stream",
     "name": "stdout",
     "text": [
      "MultiDiGraph with 7113 nodes and 44163 edges\n"
     ]
    },
    {
     "output_type": "stream",
     "name": "stderr",
     "text": [
      "/usr/local/lib/python3.7/dist-packages/matplotlib/axes/_axes.py:6703: RuntimeWarning: invalid value encountered in multiply\n",
      "  boffset = -0.5 * dr * totwidth * (1 - 1 / nx)\n"
     ]
    },
    {
     "output_type": "display_data",
     "data": {
      "image/png": "[encoded data removed]",
      "text/plain": [
       "<Figure size 1440x576 with 2 Axes>"
      ]
     },
     "metadata": {
      "needs_background": "light"
     }
    }
   ]
  },
  {
   "cell_type": "code",
   "metadata": {
    "colab": {
     "base_uri": "https://localhost:8080/",
     "height": 357
    },
    "id": "dlmrST4JASAI",
    "outputId": "732e46b3-427e-40dc-e017-72d9f81bc8f0"
   },
   "source": [
    "edges.head(10)"
   ],
   "execution_count": null,
   "outputs": [
    {
     "output_type": "execute_result",
     "data": {
      "text/html": [
       "<div>\n",
       "<style scoped>\n",
       "    .dataframe tbody tr th:only-of-type {\n",
       "        vertical-align: middle;\n",
       "    }\n",
       "\n",
       "    .dataframe tbody tr th {\n",
       "        vertical-align: top;\n",
       "    }\n",
       "\n",
       "    .dataframe thead th {\n",
       "        text-align: right;\n",
       "    }\n",
       "</style>\n",
       "<table border=\"1\" class=\"dataframe\">\n",
       "  <thead>\n",
       "    <tr style=\"text-align: right;\">\n",
       "      <th></th>\n",
       "      <th>id</th>\n",
       "      <th>source</th>\n",
       "      <th>target</th>\n",
       "      <th>edge</th>\n",
       "    </tr>\n",
       "  </thead>\n",
       "  <tbody>\n",
       "    <tr>\n",
       "      <th>0</th>\n",
       "      <td>test/14826</td>\n",
       "      <td>japan</td>\n",
       "      <td>fears</td>\n",
       "      <td>raised</td>\n",
       "    </tr>\n",
       "    <tr>\n",
       "      <th>1</th>\n",
       "      <td>test/14826</td>\n",
       "      <td>many</td>\n",
       "      <td>nations</td>\n",
       "      <td>exporting</td>\n",
       "    </tr>\n",
       "    <tr>\n",
       "      <th>2</th>\n",
       "      <td>test/14826</td>\n",
       "      <td>row</td>\n",
       "      <td>damage</td>\n",
       "      <td>inflict</td>\n",
       "    </tr>\n",
       "    <tr>\n",
       "      <th>3</th>\n",
       "      <td>test/14826</td>\n",
       "      <td>they</td>\n",
       "      <td>correspondents</td>\n",
       "      <td>told</td>\n",
       "    </tr>\n",
       "    <tr>\n",
       "      <th>4</th>\n",
       "      <td>test/14826</td>\n",
       "      <td>they</td>\n",
       "      <td>u.s.</td>\n",
       "      <td>told</td>\n",
       "    </tr>\n",
       "    <tr>\n",
       "      <th>5</th>\n",
       "      <td>test/14826</td>\n",
       "      <td>move</td>\n",
       "      <td>sentiment</td>\n",
       "      <td>boost</td>\n",
       "    </tr>\n",
       "    <tr>\n",
       "      <th>6</th>\n",
       "      <td>test/14826</td>\n",
       "      <td>conflict</td>\n",
       "      <td>them</td>\n",
       "      <td>hurt</td>\n",
       "    </tr>\n",
       "    <tr>\n",
       "      <th>7</th>\n",
       "      <td>test/14826</td>\n",
       "      <td>it</td>\n",
       "      <td>dlrs</td>\n",
       "      <td>impose</td>\n",
       "    </tr>\n",
       "    <tr>\n",
       "      <th>8</th>\n",
       "      <td>test/14826</td>\n",
       "      <td>failure</td>\n",
       "      <td>semiconductors</td>\n",
       "      <td>!sell</td>\n",
       "    </tr>\n",
       "    <tr>\n",
       "      <th>9</th>\n",
       "      <td>test/14826</td>\n",
       "      <td>failure</td>\n",
       "      <td>semiconductors</td>\n",
       "      <td>!sell</td>\n",
       "    </tr>\n",
       "  </tbody>\n",
       "</table>\n",
       "</div>"
      ],
      "text/plain": [
       "           id    source          target       edge\n",
       "0  test/14826     japan           fears     raised\n",
       "1  test/14826      many         nations  exporting\n",
       "2  test/14826       row          damage    inflict\n",
       "3  test/14826      they  correspondents       told\n",
       "4  test/14826      they            u.s.       told\n",
       "5  test/14826      move       sentiment      boost\n",
       "6  test/14826  conflict            them       hurt\n",
       "7  test/14826        it            dlrs     impose\n",
       "8  test/14826   failure  semiconductors      !sell\n",
       "9  test/14826   failure  semiconductors      !sell"
      ]
     },
     "metadata": {},
     "execution_count": 57
    }
   ]
  },
  {
   "cell_type": "code",
   "metadata": {
    "id": "femaj7nf5QoK"
   },
   "source": [
    "# 위의 edge 리스트로부터 동사(VERB)를 선택하시기 바랍니다.\n",
    "verb = \"hurt\" # eg. lend를 edge로 하는 서브 그래프 추출\n",
    "e = edges[(edges[\"source\"]!=\" \") & (edges[\"target\"]!=\" \") & (edges[\"edge\"]== verb )]"
   ],
   "execution_count": null,
   "outputs": []
  },
  {
   "cell_type": "markdown",
   "metadata": {
    "id": "_yKUi17Ff5LH"
   },
   "source": [
    "## 지식그래프의 일부 시각화"
   ]
  },
  {
   "cell_type": "code",
   "metadata": {
    "id": "UYln0agx5Tnz"
   },
   "source": [
    "# 서브그래프\n",
    "G1 = nx.from_pandas_edgelist(e, \"source\", \"target\", \n",
    "                          edge_attr=True, create_using=nx.MultiDiGraph())"
   ],
   "execution_count": null,
   "outputs": []
  },
  {
   "cell_type": "code",
   "metadata": {
    "id": "DOE-yrJj5YH5",
    "colab": {
     "base_uri": "https://localhost:8080/",
     "height": 463
    },
    "outputId": "daebf07f-81e1-4cf2-c2c1-7b3b2d0920fb"
   },
   "source": [
    "plt.figure(figsize=(13, 6))\n",
    "\n",
    "pos = nx.spring_layout(G1, k=1.2) # k regulates the distance between nodes\n",
    "nx.draw(G1, with_labels=True, node_color='skyblue', node_size=1500, edge_cmap=plt.cm.Blues, pos = pos, font_size=12)"
   ],
   "execution_count": null,
   "outputs": [
    {
     "output_type": "display_data",
     "data": {
      "image/png": "[encoded data removed]",
      "text/plain": [
       "<Figure size 936x432 with 1 Axes>"
      ]
     },
     "metadata": {}
    }
   ]
  },
  {
   "cell_type": "markdown",
   "metadata": {
    "id": "u6gywxG0gCVO"
   },
   "source": [
    "\n",
    "\n"
   ]
  }
 ]
}